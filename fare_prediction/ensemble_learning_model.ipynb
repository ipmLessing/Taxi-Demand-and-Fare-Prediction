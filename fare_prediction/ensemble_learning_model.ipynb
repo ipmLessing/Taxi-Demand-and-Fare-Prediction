{
  "nbformat": 4,
  "nbformat_minor": 0,
  "metadata": {
    "colab": {
      "name": "ensemble_learning_model.ipynb",
      "provenance": []
    },
    "kernelspec": {
      "display_name": "Python 3",
      "language": "python",
      "name": "python3"
    },
    "language_info": {
      "codemirror_mode": {
        "name": "ipython",
        "version": 3
      },
      "file_extension": ".py",
      "mimetype": "text/x-python",
      "name": "python",
      "nbconvert_exporter": "python",
      "pygments_lexer": "ipython3",
      "version": "3.6.9"
    }
  },
  "cells": [
    {
      "cell_type": "code",
      "metadata": {
        "id": "Kw0r5cAwvD7S"
      },
      "source": [
        "# !ls -lh"
      ],
      "execution_count": 2,
      "outputs": []
    },
    {
      "cell_type": "code",
      "metadata": {
        "id": "MRHSm68yv2RK"
      },
      "source": [
        "# Code to download file into Colaboratory:\n",
        "!pip install -U -q PyDrive\n",
        "from pydrive.auth import GoogleAuth\n",
        "from pydrive.drive import GoogleDrive\n",
        "from google.colab import auth\n",
        "from oauth2client.client import GoogleCredentials\n",
        "# Authenticate and create the PyDrive client.\n",
        "auth.authenticate_user()\n",
        "gauth = GoogleAuth()\n",
        "gauth.credentials = GoogleCredentials.get_application_default()\n",
        "drive = GoogleDrive(gauth)"
      ],
      "execution_count": 4,
      "outputs": []
    },
    {
      "cell_type": "code",
      "metadata": {
        "id": "R5AB9QiMv6fV"
      },
      "source": [
        "id = '1i9w3cwUKBzUS9KwRCq6POlnHn2LZF4Aw'\n",
        "downloaded = drive.CreateFile({'id':id}) \n",
        "downloaded.GetContentFile('06.csv')\n",
        "id = '1xi8xwjfqFujGg_DXab2MrgK5n2CZoFLu'\n",
        "downloaded = drive.CreateFile({'id':id}) \n",
        "downloaded.GetContentFile('07.csv')\n",
        "id = '1YsQtntyk2seWNIqOis96AZrSA1EGiyQ5'\n",
        "downloaded = drive.CreateFile({'id':id}) \n",
        "downloaded.GetContentFile('08.csv')"
      ],
      "execution_count": 5,
      "outputs": []
    },
    {
      "cell_type": "code",
      "metadata": {
        "colab": {
          "base_uri": "https://localhost:8080/"
        },
        "id": "AZrcHwtivD7U",
        "outputId": "f3ddb4c4-9f3d-41c6-b6e6-573c7953c504"
      },
      "source": [
        "import pandas as pd\n",
        "import numpy as np\n",
        "import glob\n",
        "import pickle\n",
        "%pylab inline\n",
        "import seaborn as sns\n",
        "import time\n",
        "from sklearn.metrics import explained_variance_score\n",
        "from sklearn.metrics import max_error\n",
        "from sklearn.metrics import mean_absolute_error\n",
        "from sklearn.neural_network import MLPRegressor\n",
        "from sklearn.metrics import mean_squared_error\n",
        "from sklearn.linear_model import LinearRegression\n",
        "from sklearn.metrics import mean_squared_error\n",
        "from sklearn.model_selection import GridSearchCV\n",
        "from sklearn.linear_model import Ridge"
      ],
      "execution_count": 6,
      "outputs": [
        {
          "output_type": "stream",
          "text": [
            "Populating the interactive namespace from numpy and matplotlib\n"
          ],
          "name": "stdout"
        }
      ]
    },
    {
      "cell_type": "code",
      "metadata": {
        "id": "BLGN9-MnvD7V"
      },
      "source": [
        "#load dataset\n",
        "df = pd.concat([\n",
        "    pd.read_csv(x, nrows=500000, \n",
        "                usecols=['tpep_pickup_datetime', 'tpep_dropoff_datetime', 'trip_distance',\n",
        "                       'PULocationID', 'DOLocationID', 'fare_amount', 'extra', 'mta_tax',\n",
        "                       'tip_amount', 'tolls_amount', 'total_amount',\n",
        "                       'duration', 'avg_speed'],\n",
        "                dtype= {'PULocationID': 'category', 'DOLocationID': 'category',\n",
        "                        'trip_distance': np.float16,\n",
        "                       'extra': np.float16, 'tip_amount': np.float16,\n",
        "                       'tolls_amount': np.float16, 'total_amount': np.float16,\n",
        "                       'duration': np.float16, 'avg_speed': np.float16})\n",
        "    for x in glob.glob('0*.csv')])"
      ],
      "execution_count": 7,
      "outputs": []
    },
    {
      "cell_type": "code",
      "metadata": {
        "id": "hgbjYgX8boLT"
      },
      "source": [
        "#define a data preprocessing function\n",
        "def data_preprocessing(df):\n",
        "  # df['mta_tax'] = (df['mta_tax'] * 2).astype(np.int8)\n",
        "  # df['PULocationID_fare_amount'] = df['PULocationID'].map(df.groupby(['PULocationID'])['fare_amount'].mean())\n",
        "  # df['DOLocationID_fare_amount'] = df['DOLocationID'].map(df.groupby(['DOLocationID'])['fare_amount'].mean())\n",
        "  # df['trip_distance_div_tip_amount'] = df['trip_distance'] / (df['tip_amount'] + 0.01)\n",
        "  # df['trip_distance_div_total_amount'] = df['trip_distance'] / (df['total_amount'] + 0.01)\n",
        "  df['trip_distance_div_duration'] = df['trip_distance'] / (df['duration'] + 0.01)\n",
        "  # df['trip_distance_div_duration'] = df['trip_distance'] / (df['duration'] + 0.01)\n",
        "\n",
        "  # df['tip_amount_add_tolls_amount'] = df['tip_amount'] + df['tolls_amount']\n",
        "  # df['tip_amount_add_tolls_amount_add_total_amount'] = df['tip_amount'] + df['tolls_amount'] + df['total_amount']\n",
        "\n",
        "  df['tpep_pickup_datetime'] = pd.to_datetime(df['tpep_pickup_datetime'])\n",
        "  df['tpep_dropoff_datetime'] = pd.to_datetime(df['tpep_dropoff_datetime'])\n",
        "\n",
        "  df['tpep_pickup_hour'] = df['tpep_pickup_datetime'].dt.hour\n",
        "  df['tpep_dropoff_hour'] = df['tpep_dropoff_datetime'].dt.hour\n",
        "\n",
        "  df['PULocationID'] = df['PULocationID'].astype(int) \n",
        "  df['DOLocationID'] = df['DOLocationID'].astype(int) \n",
        "  df=df.drop(['PULocationID','DOLocationID','fare_amount','extra','mta_tax','tip_amount','tolls_amount','avg_speed'],axis=1)\n",
        "  return df"
      ],
      "execution_count": 8,
      "outputs": []
    },
    {
      "cell_type": "code",
      "metadata": {
        "id": "TMLNtnYil5h4"
      },
      "source": [
        "df=data_preprocessing(df)"
      ],
      "execution_count": 9,
      "outputs": []
    },
    {
      "cell_type": "code",
      "metadata": {
        "colab": {
          "base_uri": "https://localhost:8080/"
        },
        "id": "2mhGsjTnyuWk",
        "outputId": "1bf7b319-d88f-4db4-aefa-16544aa0f6d7"
      },
      "source": [
        "#check memory usage of dataset\n",
        "df.memory_usage()"
      ],
      "execution_count": 10,
      "outputs": [
        {
          "output_type": "execute_result",
          "data": {
            "text/plain": [
              "Index                         12000000\n",
              "tpep_pickup_datetime          12000000\n",
              "tpep_dropoff_datetime         12000000\n",
              "trip_distance                  3000000\n",
              "total_amount                   3000000\n",
              "duration                       3000000\n",
              "trip_distance_div_duration     3000000\n",
              "tpep_pickup_hour              12000000\n",
              "tpep_dropoff_hour             12000000\n",
              "dtype: int64"
            ]
          },
          "metadata": {
            "tags": []
          },
          "execution_count": 10
        }
      ]
    },
    {
      "cell_type": "code",
      "metadata": {
        "id": "GsuQgojTvD7W",
        "colab": {
          "base_uri": "https://localhost:8080/"
        },
        "outputId": "c5c53a5d-fb2e-4873-c735-4d0bfa93a875"
      },
      "source": [
        "#check whether dataset contain null value \n",
        "df.info()"
      ],
      "execution_count": 11,
      "outputs": [
        {
          "output_type": "stream",
          "text": [
            "<class 'pandas.core.frame.DataFrame'>\n",
            "Int64Index: 1500000 entries, 0 to 499999\n",
            "Data columns (total 8 columns):\n",
            " #   Column                      Non-Null Count    Dtype         \n",
            "---  ------                      --------------    -----         \n",
            " 0   tpep_pickup_datetime        1500000 non-null  datetime64[ns]\n",
            " 1   tpep_dropoff_datetime       1500000 non-null  datetime64[ns]\n",
            " 2   trip_distance               1500000 non-null  float16       \n",
            " 3   total_amount                1500000 non-null  float16       \n",
            " 4   duration                    1500000 non-null  float16       \n",
            " 5   trip_distance_div_duration  1500000 non-null  float16       \n",
            " 6   tpep_pickup_hour            1500000 non-null  int64         \n",
            " 7   tpep_dropoff_hour           1500000 non-null  int64         \n",
            "dtypes: datetime64[ns](2), float16(4), int64(2)\n",
            "memory usage: 68.7 MB\n"
          ],
          "name": "stdout"
        }
      ]
    },
    {
      "cell_type": "code",
      "metadata": {
        "colab": {
          "base_uri": "https://localhost:8080/"
        },
        "id": "pHYjKPecfhGL",
        "outputId": "f6a36632-4257-4526-c49c-ad0af8102efa"
      },
      "source": [
        "#check types of each feature\n",
        "df.dtypes"
      ],
      "execution_count": 12,
      "outputs": [
        {
          "output_type": "execute_result",
          "data": {
            "text/plain": [
              "tpep_pickup_datetime          datetime64[ns]\n",
              "tpep_dropoff_datetime         datetime64[ns]\n",
              "trip_distance                        float16\n",
              "total_amount                         float16\n",
              "duration                             float16\n",
              "trip_distance_div_duration           float16\n",
              "tpep_pickup_hour                       int64\n",
              "tpep_dropoff_hour                      int64\n",
              "dtype: object"
            ]
          },
          "metadata": {
            "tags": []
          },
          "execution_count": 12
        }
      ]
    },
    {
      "cell_type": "code",
      "metadata": {
        "id": "elxJQQZuvD7Y"
      },
      "source": [
        "df = df.sample(frac=1.0)"
      ],
      "execution_count": 13,
      "outputs": []
    },
    {
      "cell_type": "code",
      "metadata": {
        "id": "JOAMkbhp6sf8"
      },
      "source": [
        "idx = 50000\n",
        "X_train=df.drop(['tpep_pickup_datetime', 'tpep_dropoff_datetime', 'total_amount'], axis=1).iloc[:-idx]\n",
        "Y_train=df['total_amount'].iloc[:-idx]\n",
        "X_test=df.drop(['tpep_pickup_datetime', 'tpep_dropoff_datetime', 'total_amount'], axis=1).iloc[:-idx]\n",
        "Y_test=df['total_amount'].iloc[:-idx]"
      ],
      "execution_count": 14,
      "outputs": []
    },
    {
      "cell_type": "code",
      "metadata": {
        "id": "xZn45eE97Qbx"
      },
      "source": [
        "#Pre-train tests to ensure correct implementation\n",
        "def test_lr_output_shape(X_train,Y_train,X_test,Y_test):\n",
        "    model = LinearRegression(fit_intercept=True, normalize=True)\n",
        "    model.fit(X_train,Y_train)\n",
        "\n",
        "    pred_train = model.predict(X_train)\n",
        "    pred_test = model.predict(X_test)\n",
        "\n",
        "    assert pred_train.shape == (Y_train.shape[0],), 'model output should be same as training labels.'\n",
        "    assert pred_test.shape == (Y_test.shape[0],), 'model output should be same as testing labels.'\n",
        "    print(\"Linear regression model prediction shape test success!\")\n",
        "\n",
        "def test_ridge_output_shape(X_train,Y_train,X_test,Y_test):\n",
        "    model = Ridge(alpha=0.2,fit_intercept=True,max_iter=500,normalize=False)\n",
        "    model.fit(X_train,Y_train)\n",
        "\n",
        "    pred_train = model.predict(X_train)\n",
        "    pred_test = model.predict(X_test)\n",
        "\n",
        "    assert pred_train.shape == (Y_train.shape[0],), 'model output should be same as training labels.'\n",
        "    assert pred_test.shape == (Y_test.shape[0],), 'model output should be same as testing labels.'\n",
        "    print(\"Ridge regression model prediction shape test success!\")\n",
        "\n",
        "def test_MLP_output_shape(X_train,Y_train,X_test,Y_test):\n",
        "    model = MLPRegressor(hidden_layer_sizes=30,learning_rate_init=0.01,max_iter=5,early_stopping=True,verbose=True)\n",
        "    model.fit(X_train,Y_train)\n",
        "\n",
        "    pred_train = model.predict(X_train)\n",
        "    pred_test = model.predict(X_test)\n",
        "\n",
        "    assert pred_train.shape == (Y_train.shape[0],), 'model output should be same as training labels.'\n",
        "    assert pred_test.shape == (Y_test.shape[0],), 'model output should be same as testing labels.'\n",
        "    print(\"Multilayer Perceptron model prediction shape test success!\")"
      ],
      "execution_count": 15,
      "outputs": []
    },
    {
      "cell_type": "code",
      "metadata": {
        "colab": {
          "base_uri": "https://localhost:8080/"
        },
        "id": "vD6jpz7a7ubg",
        "outputId": "cae41b73-f5a8-4f95-bc21-eba79fa304f7"
      },
      "source": [
        "test_lr_output_shape(X_train,Y_train,X_test,Y_test)\n",
        "print(\"----------------------------------------------------------------------------\")\n",
        "test_ridge_output_shape(X_train,Y_train,X_test,Y_test)\n",
        "print(\"----------------------------------------------------------------------------\")\n",
        "test_MLP_output_shape(X_train,Y_train,X_test,Y_test)"
      ],
      "execution_count": 16,
      "outputs": [
        {
          "output_type": "stream",
          "text": [
            "Linear regression model prediction shape test success!\n",
            "----------------------------------------------------------------------------\n",
            "Ridge regression model prediction shape test success!\n",
            "----------------------------------------------------------------------------\n",
            "Iteration 1, loss = 6.27344451\n",
            "Validation score: 0.931713\n",
            "Iteration 2, loss = 5.88257622\n",
            "Validation score: 0.931990\n",
            "Iteration 3, loss = 5.68246746\n",
            "Validation score: 0.933411\n",
            "Iteration 4, loss = 5.46486129\n",
            "Validation score: 0.936453\n",
            "Iteration 5, loss = 5.41435579\n",
            "Validation score: 0.932690\n"
          ],
          "name": "stdout"
        },
        {
          "output_type": "stream",
          "text": [
            "/usr/local/lib/python3.7/dist-packages/sklearn/neural_network/_multilayer_perceptron.py:571: ConvergenceWarning: Stochastic Optimizer: Maximum iterations (5) reached and the optimization hasn't converged yet.\n",
            "  % self.max_iter, ConvergenceWarning)\n"
          ],
          "name": "stderr"
        },
        {
          "output_type": "stream",
          "text": [
            "Multilayer Perceptron model prediction shape test success!\n"
          ],
          "name": "stdout"
        }
      ]
    },
    {
      "cell_type": "code",
      "metadata": {
        "id": "Jg3ASuoy_G8A"
      },
      "source": [
        "def test_lr_output_range(X_train,Y_train,X_test,Y_test):\n",
        "    model = LinearRegression(fit_intercept=True, normalize=True)\n",
        "    model.fit(X_train,Y_train)\n",
        "\n",
        "    pred_train = model.predict(X_train)\n",
        "    pred_test = model.predict(X_test)\n",
        "\n",
        "    assert (pred_train >= 0).all() & (pred_test >= 0).all(), 'model output should range from 0 to 1 inclusive'\n",
        "    print(\"Linear regression model output range test success!\")\n",
        "\n",
        "def test_Ridge_output_range(X_train,Y_train,X_test,Y_test):\n",
        "    model = Ridge(alpha=0.2,fit_intercept=True,max_iter=500,normalize=False)\n",
        "    model.fit(X_train,Y_train)\n",
        "\n",
        "    pred_train = model.predict(X_train)\n",
        "    pred_test = model.predict(X_test)\n",
        "\n",
        "    assert (pred_train >= 0).all() & (pred_test >= 0).all(), 'model output should range from 0 to 1 inclusive'\n",
        "    print(\"Ridge regression model output range test success!\")\n",
        "\n",
        "def test_MLP_output_range(X_train,Y_train,X_test,Y_test):\n",
        "    model = MLPRegressor(hidden_layer_sizes=30,learning_rate_init=0.01,max_iter=5,early_stopping=True,verbose=True)\n",
        "    model.fit(X_train,Y_train)\n",
        "\n",
        "    pred_train = model.predict(X_train)\n",
        "    pred_test = model.predict(X_test)\n",
        "\n",
        "    assert (pred_train >= 0).all() & (pred_test >= 0).all(), 'model output should range from 0 to 1 inclusive'\n",
        "    print(\"Multilayer Perceptron model output range test success!\")"
      ],
      "execution_count": 17,
      "outputs": []
    },
    {
      "cell_type": "code",
      "metadata": {
        "colab": {
          "base_uri": "https://localhost:8080/"
        },
        "id": "gk4fYW5E_kYK",
        "outputId": "4d55e5b4-6ab9-40f3-ed1f-7889c136ba35"
      },
      "source": [
        "test_lr_output_range(X_train,Y_train,X_test,Y_test)\n",
        "print(\"----------------------------------------------------------------------------\")\n",
        "test_Ridge_output_range(X_train,Y_train,X_test,Y_test)\n",
        "print(\"----------------------------------------------------------------------------\")\n",
        "test_MLP_output_range(X_train,Y_train,X_test,Y_test)"
      ],
      "execution_count": 18,
      "outputs": [
        {
          "output_type": "stream",
          "text": [
            "Linear regression model output range test success!\n",
            "----------------------------------------------------------------------------\n",
            "Ridge regression model output range test success!\n",
            "----------------------------------------------------------------------------\n",
            "Iteration 1, loss = 6.21668372\n",
            "Validation score: 0.931223\n",
            "Iteration 2, loss = 5.60657490\n",
            "Validation score: 0.938719\n",
            "Iteration 3, loss = 5.49421291\n",
            "Validation score: 0.939158\n",
            "Iteration 4, loss = 5.46465460\n",
            "Validation score: 0.939489\n",
            "Iteration 5, loss = 5.46738058\n",
            "Validation score: 0.939431\n"
          ],
          "name": "stdout"
        },
        {
          "output_type": "stream",
          "text": [
            "/usr/local/lib/python3.7/dist-packages/sklearn/neural_network/_multilayer_perceptron.py:571: ConvergenceWarning: Stochastic Optimizer: Maximum iterations (5) reached and the optimization hasn't converged yet.\n",
            "  % self.max_iter, ConvergenceWarning)\n"
          ],
          "name": "stderr"
        },
        {
          "output_type": "stream",
          "text": [
            "Multilayer Perceptron model output range test success!\n"
          ],
          "name": "stdout"
        }
      ]
    },
    {
      "cell_type": "markdown",
      "metadata": {
        "id": "G8yTLhsfQH9L"
      },
      "source": [
        "variance"
      ]
    },
    {
      "cell_type": "code",
      "metadata": {
        "id": "4DSVkHwFEaK4"
      },
      "source": [
        "def test_lr_variance(X_train,Y_train,X_test,Y_test):\n",
        "    model = LinearRegression(fit_intercept=True, normalize=True)\n",
        "    model.fit(X_train,Y_train)\n",
        "\n",
        "    pred_train = model.predict(X_train)\n",
        "    pred_test = model.predict(X_test)\n",
        "\n",
        "    assert (explained_variance_score(Y_test, pred_test)>0.9), 'model variance_score should > 0.9'\n",
        "    print(\"Linear regression model variance>0.9 success\")\n",
        "\n",
        "\n",
        "def test_Ridge_variance(X_train,Y_train,X_test,Y_test):\n",
        "    model = Ridge(alpha=0.2,fit_intercept=True,max_iter=500,normalize=False)\n",
        "    model.fit(X_train,Y_train)\n",
        "\n",
        "    pred_train = model.predict(X_train)\n",
        "    pred_test = model.predict(X_test)\n",
        "\n",
        "    assert (explained_variance_score(Y_test, pred_test)>0.9), 'model variance_score should > 0.9'\n",
        "    print(\"Ridge regression model variance>0.9 success\")\n",
        "\n",
        "\n",
        "def test_MLP_variance(X_train,Y_train,X_test,Y_test):\n",
        "    model = MLPRegressor(hidden_layer_sizes=30,learning_rate_init=0.01,max_iter=5,early_stopping=True,verbose=True)\n",
        "    model.fit(X_train,Y_train)\n",
        "\n",
        "    pred_train = model.predict(X_train)\n",
        "    pred_test = model.predict(X_test)\n",
        "    \n",
        "    assert (explained_variance_score(Y_test, pred_test)>0.9), 'model variance_score should > 0.9'\n",
        "    print(\"Multilayer Perceptron model variance>0.9 success\")\n",
        "\n"
      ],
      "execution_count": 19,
      "outputs": []
    },
    {
      "cell_type": "code",
      "metadata": {
        "colab": {
          "base_uri": "https://localhost:8080/"
        },
        "id": "0Y-Xg-m0KSl6",
        "outputId": "95946c21-c774-4c1b-c31e-49354acb6db1"
      },
      "source": [
        "test_lr_variance(X_train,Y_train,X_test,Y_test)\n",
        "print(\"----------------------------------------------------------------------------\")\n",
        "test_Ridge_variance(X_train,Y_train,X_test,Y_test)\n",
        "print(\"----------------------------------------------------------------------------\")\n",
        "test_MLP_variance(X_train,Y_train,X_test,Y_test)"
      ],
      "execution_count": 20,
      "outputs": [
        {
          "output_type": "stream",
          "text": [
            "Linear regression model variance>0.9 success\n",
            "----------------------------------------------------------------------------\n",
            "Ridge regression model variance>0.9 success\n",
            "----------------------------------------------------------------------------\n",
            "Iteration 1, loss = 6.42991098\n",
            "Validation score: 0.936592\n",
            "Iteration 2, loss = 5.52992850\n",
            "Validation score: 0.934085\n",
            "Iteration 3, loss = 5.48456568\n",
            "Validation score: 0.938976\n",
            "Iteration 4, loss = 5.47101105\n",
            "Validation score: 0.939389\n",
            "Iteration 5, loss = 5.44886302\n",
            "Validation score: 0.937634\n"
          ],
          "name": "stdout"
        },
        {
          "output_type": "stream",
          "text": [
            "/usr/local/lib/python3.7/dist-packages/sklearn/neural_network/_multilayer_perceptron.py:571: ConvergenceWarning: Stochastic Optimizer: Maximum iterations (5) reached and the optimization hasn't converged yet.\n",
            "  % self.max_iter, ConvergenceWarning)\n"
          ],
          "name": "stderr"
        },
        {
          "output_type": "stream",
          "text": [
            "Multilayer Perceptron model variance>0.9 success\n"
          ],
          "name": "stdout"
        }
      ]
    },
    {
      "cell_type": "markdown",
      "metadata": {
        "id": "a5vRgoZAEdPD"
      },
      "source": [
        "Max error"
      ]
    },
    {
      "cell_type": "code",
      "metadata": {
        "id": "7O2iACh58f6N"
      },
      "source": [
        "def test_lr_maxerror(X_train,Y_train,X_test,Y_test):\n",
        "    model = LinearRegression(fit_intercept=True, normalize=True)\n",
        "    model.fit(X_train,Y_train)\n",
        "\n",
        "    pred_train = model.predict(X_train)\n",
        "    pred_test = model.predict(X_test)\n",
        "\n",
        "  #  assert (max_error(Y_train, pred_train)==0), 'max_error in training set should be 0'\n",
        "   # print(\"max error test in training set success!\")\n",
        "    print( print(max_error(Y_train, pred_train)))\n",
        "\n",
        "\n",
        "def test_Ridge_maxerror(X_train,Y_train,X_test,Y_test):\n",
        "    model = Ridge(alpha=0.2,fit_intercept=True,max_iter=500,normalize=False)\n",
        "    model.fit(X_train,Y_train)\n",
        "\n",
        "    pred_train = model.predict(X_train)\n",
        "    pred_test = model.predict(X_test)\n",
        "\n",
        "    #assert (max_error(Y_train, pred_train)==0), 'max_error in training set should be 0'\n",
        "   # print(\"max error test in training set success!\")\n",
        "    print(max_error(Y_train, pred_train))\n",
        "\n",
        "\n",
        "def test_MLP_maxerror(X_train,Y_train,X_test,Y_test):\n",
        "    model = MLPRegressor(hidden_layer_sizes=30,learning_rate_init=0.01,max_iter=5,early_stopping=True,verbose=True)\n",
        "    model.fit(X_train,Y_train)\n",
        "\n",
        "    pred_train = model.predict(X_train)\n",
        "    pred_test = model.predict(X_test)\n",
        "    \n",
        "   # assert (max_error(Y_train, pred_train)==0), 'max_error in training set should be 0'\n",
        "   # print(\"max error test in training set success!\")\n",
        "    print(max_error(Y_train, pred_train))"
      ],
      "execution_count": 21,
      "outputs": []
    },
    {
      "cell_type": "code",
      "metadata": {
        "colab": {
          "base_uri": "https://localhost:8080/"
        },
        "id": "w9pdbUYL_NWN",
        "outputId": "8b026c19-df76-43ce-9f4a-e88e532ed374"
      },
      "source": [
        "test_lr_maxerror(X_train,Y_train,X_test,Y_test)\n",
        "print(\"----------------------------------------------------------------------------\")\n",
        "test_Ridge_maxerror(X_train,Y_train,X_test,Y_test)\n",
        "print(\"----------------------------------------------------------------------------\")\n",
        "test_MLP_maxerror(X_train,Y_train,X_test,Y_test)"
      ],
      "execution_count": 22,
      "outputs": [
        {
          "output_type": "stream",
          "text": [
            "218.32766470474357\n",
            "None\n",
            "----------------------------------------------------------------------------\n",
            "218.32766858407354\n",
            "----------------------------------------------------------------------------\n",
            "Iteration 1, loss = 6.26161645\n",
            "Validation score: 0.923417\n",
            "Iteration 2, loss = 5.53682498\n",
            "Validation score: 0.938614\n",
            "Iteration 3, loss = 5.49859236\n",
            "Validation score: 0.939994\n",
            "Iteration 4, loss = 5.47956893\n",
            "Validation score: 0.940108\n",
            "Iteration 5, loss = 5.45521653\n",
            "Validation score: 0.939110\n"
          ],
          "name": "stdout"
        },
        {
          "output_type": "stream",
          "text": [
            "/usr/local/lib/python3.7/dist-packages/sklearn/neural_network/_multilayer_perceptron.py:571: ConvergenceWarning: Stochastic Optimizer: Maximum iterations (5) reached and the optimization hasn't converged yet.\n",
            "  % self.max_iter, ConvergenceWarning)\n"
          ],
          "name": "stderr"
        },
        {
          "output_type": "stream",
          "text": [
            "218.32164741365057\n"
          ],
          "name": "stdout"
        }
      ]
    },
    {
      "cell_type": "markdown",
      "metadata": {
        "id": "aJCo_BB9Wy3z"
      },
      "source": [
        "MAE"
      ]
    },
    {
      "cell_type": "code",
      "metadata": {
        "id": "y3pGNw18F9y3"
      },
      "source": [
        "def test_lr_RMSE(X_train,Y_train,X_test,Y_test):\n",
        "    model = LinearRegression(fit_intercept=True, normalize=True)\n",
        "    model.fit(X_train,Y_train)\n",
        "\n",
        "    pred_test = model.predict(X_test)\n",
        "\n",
        "    assert (np.sqrt(mean_squared_error(pred_test,Y_test))<5)\n",
        "    print(\"Linear regression model RMSE < 5 success\")\n",
        "\n",
        "\n",
        "def test_Ridge_RMSE(X_train,Y_train,X_test,Y_test):\n",
        "    model = Ridge(alpha=0.2,fit_intercept=True,max_iter=500,normalize=False)\n",
        "    model.fit(X_train,Y_train)\n",
        "\n",
        "    pred_train = model.predict(X_train)\n",
        "    pred_test = model.predict(X_test)\n",
        "\n",
        "    assert (np.sqrt(mean_squared_error(Y_test, pred_test))<5)\n",
        "    print(\"Ridge regression model RMSE < 5 success\")\n",
        "\n",
        "\n",
        "def test_MLP_RMSE(X_train,Y_train,X_test,Y_test):\n",
        "    model = MLPRegressor(hidden_layer_sizes=30,learning_rate_init=0.01,max_iter=5,early_stopping=True,verbose=True)\n",
        "    model.fit(X_train,Y_train)\n",
        "\n",
        "    pred_train = model.predict(X_train)\n",
        "    pred_test = model.predict(X_test)\n",
        "    \n",
        "    assert (np.sqrt(mean_squared_error(Y_test, pred_test))<5)\n",
        "    print(\"Multilayer Perceptron model RMSE < 5 success\")"
      ],
      "execution_count": 26,
      "outputs": []
    },
    {
      "cell_type": "code",
      "metadata": {
        "colab": {
          "base_uri": "https://localhost:8080/"
        },
        "id": "O9G86mk2XAY0",
        "outputId": "ae740ae8-60df-448e-a64f-d51babd65425"
      },
      "source": [
        "test_lr_RMSE(X_train,Y_train,X_test,Y_test)\n",
        "print(\"----------------------------------------------------------------------------\")\n",
        "test_Ridge_RMSE(X_train,Y_train,X_test,Y_test)\n",
        "print(\"----------------------------------------------------------------------------\")\n",
        "test_MLP_RMSE(X_train,Y_train,X_test,Y_test)"
      ],
      "execution_count": 25,
      "outputs": [
        {
          "output_type": "stream",
          "text": [
            "Linear regression model MAE>0.9 success\n",
            "----------------------------------------------------------------------------\n",
            "Ridge regression model RMSE < 5 success\n",
            "----------------------------------------------------------------------------\n",
            "Iteration 1, loss = 6.30290476\n",
            "Validation score: 0.939008\n",
            "Iteration 2, loss = 5.50373028\n",
            "Validation score: 0.940068\n",
            "Iteration 3, loss = 5.48375978\n",
            "Validation score: 0.940642\n",
            "Iteration 4, loss = 5.45757909\n",
            "Validation score: 0.941311\n",
            "Iteration 5, loss = 5.44578019\n",
            "Validation score: 0.939717\n"
          ],
          "name": "stdout"
        },
        {
          "output_type": "stream",
          "text": [
            "/usr/local/lib/python3.7/dist-packages/sklearn/neural_network/_multilayer_perceptron.py:571: ConvergenceWarning: Stochastic Optimizer: Maximum iterations (5) reached and the optimization hasn't converged yet.\n",
            "  % self.max_iter, ConvergenceWarning)\n"
          ],
          "name": "stderr"
        },
        {
          "output_type": "stream",
          "text": [
            "Multilayer Perceptron model RMSE < 5 success\n"
          ],
          "name": "stdout"
        }
      ]
    },
    {
      "cell_type": "markdown",
      "metadata": {
        "id": "BnhG2Iss63ya"
      },
      "source": [
        "Models"
      ]
    },
    {
      "cell_type": "code",
      "metadata": {
        "colab": {
          "base_uri": "https://localhost:8080/"
        },
        "id": "gdxSqppDvD7Y",
        "outputId": "6e878d8a-da85-44b7-bee7-5f7bfc985cee"
      },
      "source": [
        "model = LinearRegression()\n",
        "param = {'normalize': (True, False), 'fit_intercept': (True, False)}\n",
        "clf = GridSearchCV(model, param, cv=5, scoring='neg_root_mean_squared_error')\n",
        "clf.fit(df.drop(['tpep_pickup_datetime', 'tpep_dropoff_datetime', 'total_amount'], axis=1), \n",
        "          df['total_amount'])\n",
        "# 0.10198834032536365"
      ],
      "execution_count": 27,
      "outputs": [
        {
          "output_type": "execute_result",
          "data": {
            "text/plain": [
              "GridSearchCV(cv=5, error_score=nan,\n",
              "             estimator=LinearRegression(copy_X=True, fit_intercept=True,\n",
              "                                        n_jobs=None, normalize=False),\n",
              "             iid='deprecated', n_jobs=None,\n",
              "             param_grid={'fit_intercept': (True, False),\n",
              "                         'normalize': (True, False)},\n",
              "             pre_dispatch='2*n_jobs', refit=True, return_train_score=False,\n",
              "             scoring='neg_root_mean_squared_error', verbose=0)"
            ]
          },
          "metadata": {
            "tags": []
          },
          "execution_count": 27
        }
      ]
    },
    {
      "cell_type": "code",
      "metadata": {
        "colab": {
          "base_uri": "https://localhost:8080/"
        },
        "id": "_MB0cRWjvD7Y",
        "outputId": "14a8d9f5-9633-43eb-9cc2-c005213e7c7e"
      },
      "source": [
        "print(-clf.best_score_)\n",
        "print(clf.best_params_)"
      ],
      "execution_count": 28,
      "outputs": [
        {
          "output_type": "stream",
          "text": [
            "3.5228751236484035\n",
            "{'fit_intercept': True, 'normalize': False}\n"
          ],
          "name": "stdout"
        }
      ]
    },
    {
      "cell_type": "code",
      "metadata": {
        "colab": {
          "base_uri": "https://localhost:8080/"
        },
        "id": "ZZXMTW5hvD7Y",
        "outputId": "4d5ef241-58c7-4610-db37-d7596a9ade32"
      },
      "source": [
        "model = LinearRegression(fit_intercept=True, normalize=True)\n",
        "model.fit(X_train,Y_train)\n",
        "\n",
        "pred_lr = model.predict(X_test)\n",
        "mse = np.sqrt(mean_squared_error(pred_lr, Y_test))\n",
        "print(mse)"
      ],
      "execution_count": 29,
      "outputs": [
        {
          "output_type": "stream",
          "text": [
            "3.520782464775979\n"
          ],
          "name": "stdout"
        }
      ]
    },
    {
      "cell_type": "code",
      "metadata": {
        "id": "hc4By2VuFYFL"
      },
      "source": [
        "filename='Lr_model.sav'\n",
        "pickle.dump(model,open(filename,'wb'))"
      ],
      "execution_count": 30,
      "outputs": []
    },
    {
      "cell_type": "code",
      "metadata": {
        "colab": {
          "base_uri": "https://localhost:8080/"
        },
        "id": "1HtEtWGovD7Z",
        "outputId": "792ed051-aa60-4b91-8f60-04e0eb90dadf"
      },
      "source": [
        "model = Ridge()\n",
        "param = {'alpha': (1.0, 0.8, 0.6, 0.4, 0.2),'fit_intercept':(True,False),'normalize':(True,False),'max_iter':(500,1000,1500,2000)}\n",
        "clf = GridSearchCV(model, param, cv=5, scoring='neg_root_mean_squared_error')\n",
        "clf.fit(df.drop(['tpep_pickup_datetime', 'tpep_dropoff_datetime', 'total_amount'], axis=1), \n",
        "          df['total_amount'])\n",
        "# 0.10198834032536365"
      ],
      "execution_count": 31,
      "outputs": [
        {
          "output_type": "execute_result",
          "data": {
            "text/plain": [
              "GridSearchCV(cv=5, error_score=nan,\n",
              "             estimator=Ridge(alpha=1.0, copy_X=True, fit_intercept=True,\n",
              "                             max_iter=None, normalize=False, random_state=None,\n",
              "                             solver='auto', tol=0.001),\n",
              "             iid='deprecated', n_jobs=None,\n",
              "             param_grid={'alpha': (1.0, 0.8, 0.6, 0.4, 0.2),\n",
              "                         'fit_intercept': (True, False),\n",
              "                         'max_iter': (500, 1000, 1500, 2000),\n",
              "                         'normalize': (True, False)},\n",
              "             pre_dispatch='2*n_jobs', refit=True, return_train_score=False,\n",
              "             scoring='neg_root_mean_squared_error', verbose=0)"
            ]
          },
          "metadata": {
            "tags": []
          },
          "execution_count": 31
        }
      ]
    },
    {
      "cell_type": "code",
      "metadata": {
        "colab": {
          "base_uri": "https://localhost:8080/"
        },
        "id": "bgBE4N0_vD7Z",
        "outputId": "26245618-0a43-463c-ba38-6c9e537f65bb"
      },
      "source": [
        "print(-clf.best_score_)\n",
        "print(clf.best_params_)"
      ],
      "execution_count": 32,
      "outputs": [
        {
          "output_type": "stream",
          "text": [
            "3.52287512186288\n",
            "{'alpha': 1.0, 'fit_intercept': True, 'max_iter': 500, 'normalize': False}\n"
          ],
          "name": "stdout"
        }
      ]
    },
    {
      "cell_type": "code",
      "metadata": {
        "colab": {
          "base_uri": "https://localhost:8080/"
        },
        "id": "O4pEp_0evD7Z",
        "outputId": "34b510a3-5f97-4d9b-ef24-3589a9be288c"
      },
      "source": [
        "model = Ridge(alpha=0.2,fit_intercept=True,max_iter=500,normalize=False)\n",
        "model.fit(X_train,Y_train)\n",
        "pred_ridge = model.predict(X_test)\n",
        "mse = np.sqrt(mean_squared_error(pred_ridge, Y_test))\n",
        "print(mse)"
      ],
      "execution_count": 33,
      "outputs": [
        {
          "output_type": "stream",
          "text": [
            "3.520782464784785\n"
          ],
          "name": "stdout"
        }
      ]
    },
    {
      "cell_type": "code",
      "metadata": {
        "id": "QjKxe4-9zXYz"
      },
      "source": [
        "filename='Ridge_model.sav'\n",
        "pickle.dump(model,open(filename,'wb'))"
      ],
      "execution_count": 34,
      "outputs": []
    },
    {
      "cell_type": "code",
      "metadata": {
        "colab": {
          "base_uri": "https://localhost:8080/"
        },
        "id": "RmVXCasyvD7a",
        "outputId": "aefacd98-9140-42ea-8a4b-717997b4307d"
      },
      "source": [
        "model = MLPRegressor(verbose=True)\n",
        "param = {'hidden_layer_sizes': (10, 20, 30), 'max_iter': (1, 2, 4, 5)}\n",
        "clf = GridSearchCV(model, param, cv=5, scoring='neg_root_mean_squared_error', verbose=1)\n",
        "clf.fit(df.drop(['tpep_pickup_datetime', 'tpep_dropoff_datetime', 'total_amount'], axis=1), \n",
        "          df['total_amount'])\n",
        "# 0.10198834032536365"
      ],
      "execution_count": 35,
      "outputs": [
        {
          "output_type": "stream",
          "text": [
            "Fitting 5 folds for each of 12 candidates, totalling 60 fits\n"
          ],
          "name": "stdout"
        },
        {
          "output_type": "stream",
          "text": [
            "[Parallel(n_jobs=1)]: Using backend SequentialBackend with 1 concurrent workers.\n"
          ],
          "name": "stderr"
        },
        {
          "output_type": "stream",
          "text": [
            "Iteration 1, loss = 8.29735846\n"
          ],
          "name": "stdout"
        },
        {
          "output_type": "stream",
          "text": [
            "/usr/local/lib/python3.7/dist-packages/sklearn/neural_network/_multilayer_perceptron.py:571: ConvergenceWarning: Stochastic Optimizer: Maximum iterations (1) reached and the optimization hasn't converged yet.\n",
            "  % self.max_iter, ConvergenceWarning)\n"
          ],
          "name": "stderr"
        },
        {
          "output_type": "stream",
          "text": [
            "Iteration 1, loss = 17.27270927\n"
          ],
          "name": "stdout"
        },
        {
          "output_type": "stream",
          "text": [
            "/usr/local/lib/python3.7/dist-packages/sklearn/neural_network/_multilayer_perceptron.py:571: ConvergenceWarning: Stochastic Optimizer: Maximum iterations (1) reached and the optimization hasn't converged yet.\n",
            "  % self.max_iter, ConvergenceWarning)\n"
          ],
          "name": "stderr"
        },
        {
          "output_type": "stream",
          "text": [
            "Iteration 1, loss = 8.50338298\n"
          ],
          "name": "stdout"
        },
        {
          "output_type": "stream",
          "text": [
            "/usr/local/lib/python3.7/dist-packages/sklearn/neural_network/_multilayer_perceptron.py:571: ConvergenceWarning: Stochastic Optimizer: Maximum iterations (1) reached and the optimization hasn't converged yet.\n",
            "  % self.max_iter, ConvergenceWarning)\n"
          ],
          "name": "stderr"
        },
        {
          "output_type": "stream",
          "text": [
            "Iteration 1, loss = 12.27270493\n"
          ],
          "name": "stdout"
        },
        {
          "output_type": "stream",
          "text": [
            "/usr/local/lib/python3.7/dist-packages/sklearn/neural_network/_multilayer_perceptron.py:571: ConvergenceWarning: Stochastic Optimizer: Maximum iterations (1) reached and the optimization hasn't converged yet.\n",
            "  % self.max_iter, ConvergenceWarning)\n"
          ],
          "name": "stderr"
        },
        {
          "output_type": "stream",
          "text": [
            "Iteration 1, loss = 13.49995649\n"
          ],
          "name": "stdout"
        },
        {
          "output_type": "stream",
          "text": [
            "/usr/local/lib/python3.7/dist-packages/sklearn/neural_network/_multilayer_perceptron.py:571: ConvergenceWarning: Stochastic Optimizer: Maximum iterations (1) reached and the optimization hasn't converged yet.\n",
            "  % self.max_iter, ConvergenceWarning)\n"
          ],
          "name": "stderr"
        },
        {
          "output_type": "stream",
          "text": [
            "Iteration 1, loss = 8.93034777\n",
            "Iteration 2, loss = 6.06351886\n"
          ],
          "name": "stdout"
        },
        {
          "output_type": "stream",
          "text": [
            "/usr/local/lib/python3.7/dist-packages/sklearn/neural_network/_multilayer_perceptron.py:571: ConvergenceWarning: Stochastic Optimizer: Maximum iterations (2) reached and the optimization hasn't converged yet.\n",
            "  % self.max_iter, ConvergenceWarning)\n"
          ],
          "name": "stderr"
        },
        {
          "output_type": "stream",
          "text": [
            "Iteration 1, loss = 9.69894466\n",
            "Iteration 2, loss = 6.09586462\n"
          ],
          "name": "stdout"
        },
        {
          "output_type": "stream",
          "text": [
            "/usr/local/lib/python3.7/dist-packages/sklearn/neural_network/_multilayer_perceptron.py:571: ConvergenceWarning: Stochastic Optimizer: Maximum iterations (2) reached and the optimization hasn't converged yet.\n",
            "  % self.max_iter, ConvergenceWarning)\n"
          ],
          "name": "stderr"
        },
        {
          "output_type": "stream",
          "text": [
            "Iteration 1, loss = 32.16859153\n",
            "Iteration 2, loss = 6.12447317\n"
          ],
          "name": "stdout"
        },
        {
          "output_type": "stream",
          "text": [
            "/usr/local/lib/python3.7/dist-packages/sklearn/neural_network/_multilayer_perceptron.py:571: ConvergenceWarning: Stochastic Optimizer: Maximum iterations (2) reached and the optimization hasn't converged yet.\n",
            "  % self.max_iter, ConvergenceWarning)\n"
          ],
          "name": "stderr"
        },
        {
          "output_type": "stream",
          "text": [
            "Iteration 1, loss = 6.78776835\n",
            "Iteration 2, loss = 5.98478612\n"
          ],
          "name": "stdout"
        },
        {
          "output_type": "stream",
          "text": [
            "/usr/local/lib/python3.7/dist-packages/sklearn/neural_network/_multilayer_perceptron.py:571: ConvergenceWarning: Stochastic Optimizer: Maximum iterations (2) reached and the optimization hasn't converged yet.\n",
            "  % self.max_iter, ConvergenceWarning)\n"
          ],
          "name": "stderr"
        },
        {
          "output_type": "stream",
          "text": [
            "Iteration 1, loss = 11.68638972\n",
            "Iteration 2, loss = 6.01007200\n"
          ],
          "name": "stdout"
        },
        {
          "output_type": "stream",
          "text": [
            "/usr/local/lib/python3.7/dist-packages/sklearn/neural_network/_multilayer_perceptron.py:571: ConvergenceWarning: Stochastic Optimizer: Maximum iterations (2) reached and the optimization hasn't converged yet.\n",
            "  % self.max_iter, ConvergenceWarning)\n"
          ],
          "name": "stderr"
        },
        {
          "output_type": "stream",
          "text": [
            "Iteration 1, loss = 10.94594924\n",
            "Iteration 2, loss = 5.97017081\n",
            "Iteration 3, loss = 5.88163009\n",
            "Iteration 4, loss = 5.73568006\n"
          ],
          "name": "stdout"
        },
        {
          "output_type": "stream",
          "text": [
            "/usr/local/lib/python3.7/dist-packages/sklearn/neural_network/_multilayer_perceptron.py:571: ConvergenceWarning: Stochastic Optimizer: Maximum iterations (4) reached and the optimization hasn't converged yet.\n",
            "  % self.max_iter, ConvergenceWarning)\n"
          ],
          "name": "stderr"
        },
        {
          "output_type": "stream",
          "text": [
            "Iteration 1, loss = 11.52506500\n",
            "Iteration 2, loss = 6.07677079\n",
            "Iteration 3, loss = 5.94513953\n",
            "Iteration 4, loss = 5.87780253\n"
          ],
          "name": "stdout"
        },
        {
          "output_type": "stream",
          "text": [
            "/usr/local/lib/python3.7/dist-packages/sklearn/neural_network/_multilayer_perceptron.py:571: ConvergenceWarning: Stochastic Optimizer: Maximum iterations (4) reached and the optimization hasn't converged yet.\n",
            "  % self.max_iter, ConvergenceWarning)\n"
          ],
          "name": "stderr"
        },
        {
          "output_type": "stream",
          "text": [
            "Iteration 1, loss = 10.27871867\n",
            "Iteration 2, loss = 6.00820645\n",
            "Iteration 3, loss = 5.98612749\n",
            "Iteration 4, loss = 5.96132136\n"
          ],
          "name": "stdout"
        },
        {
          "output_type": "stream",
          "text": [
            "/usr/local/lib/python3.7/dist-packages/sklearn/neural_network/_multilayer_perceptron.py:571: ConvergenceWarning: Stochastic Optimizer: Maximum iterations (4) reached and the optimization hasn't converged yet.\n",
            "  % self.max_iter, ConvergenceWarning)\n"
          ],
          "name": "stderr"
        },
        {
          "output_type": "stream",
          "text": [
            "Iteration 1, loss = 7.94360774\n",
            "Iteration 2, loss = 5.98486549\n",
            "Iteration 3, loss = 5.87522203\n",
            "Iteration 4, loss = 5.72995663\n"
          ],
          "name": "stdout"
        },
        {
          "output_type": "stream",
          "text": [
            "/usr/local/lib/python3.7/dist-packages/sklearn/neural_network/_multilayer_perceptron.py:571: ConvergenceWarning: Stochastic Optimizer: Maximum iterations (4) reached and the optimization hasn't converged yet.\n",
            "  % self.max_iter, ConvergenceWarning)\n"
          ],
          "name": "stderr"
        },
        {
          "output_type": "stream",
          "text": [
            "Iteration 1, loss = 12.37951068\n",
            "Iteration 2, loss = 6.26685789\n",
            "Iteration 3, loss = 6.24464113\n",
            "Iteration 4, loss = 6.12714395\n"
          ],
          "name": "stdout"
        },
        {
          "output_type": "stream",
          "text": [
            "/usr/local/lib/python3.7/dist-packages/sklearn/neural_network/_multilayer_perceptron.py:571: ConvergenceWarning: Stochastic Optimizer: Maximum iterations (4) reached and the optimization hasn't converged yet.\n",
            "  % self.max_iter, ConvergenceWarning)\n"
          ],
          "name": "stderr"
        },
        {
          "output_type": "stream",
          "text": [
            "Iteration 1, loss = 11.77729292\n",
            "Iteration 2, loss = 5.96821691\n",
            "Iteration 3, loss = 5.82530747\n",
            "Iteration 4, loss = 5.64558688\n",
            "Iteration 5, loss = 5.52022482\n"
          ],
          "name": "stdout"
        },
        {
          "output_type": "stream",
          "text": [
            "/usr/local/lib/python3.7/dist-packages/sklearn/neural_network/_multilayer_perceptron.py:571: ConvergenceWarning: Stochastic Optimizer: Maximum iterations (5) reached and the optimization hasn't converged yet.\n",
            "  % self.max_iter, ConvergenceWarning)\n"
          ],
          "name": "stderr"
        },
        {
          "output_type": "stream",
          "text": [
            "Iteration 1, loss = 11.20641015\n",
            "Iteration 2, loss = 6.03467429\n",
            "Iteration 3, loss = 5.75468059\n",
            "Iteration 4, loss = 5.54936249\n",
            "Iteration 5, loss = 5.44453320\n"
          ],
          "name": "stdout"
        },
        {
          "output_type": "stream",
          "text": [
            "/usr/local/lib/python3.7/dist-packages/sklearn/neural_network/_multilayer_perceptron.py:571: ConvergenceWarning: Stochastic Optimizer: Maximum iterations (5) reached and the optimization hasn't converged yet.\n",
            "  % self.max_iter, ConvergenceWarning)\n"
          ],
          "name": "stderr"
        },
        {
          "output_type": "stream",
          "text": [
            "Iteration 1, loss = 9.37409684\n",
            "Iteration 2, loss = 5.95330823\n",
            "Iteration 3, loss = 5.78596682\n",
            "Iteration 4, loss = 5.62275276\n",
            "Iteration 5, loss = 5.50639309\n"
          ],
          "name": "stdout"
        },
        {
          "output_type": "stream",
          "text": [
            "/usr/local/lib/python3.7/dist-packages/sklearn/neural_network/_multilayer_perceptron.py:571: ConvergenceWarning: Stochastic Optimizer: Maximum iterations (5) reached and the optimization hasn't converged yet.\n",
            "  % self.max_iter, ConvergenceWarning)\n"
          ],
          "name": "stderr"
        },
        {
          "output_type": "stream",
          "text": [
            "Iteration 1, loss = 16.23769735\n",
            "Iteration 2, loss = 6.08751223\n",
            "Iteration 3, loss = 5.99119310\n",
            "Iteration 4, loss = 5.93901045\n",
            "Iteration 5, loss = 5.91380902\n"
          ],
          "name": "stdout"
        },
        {
          "output_type": "stream",
          "text": [
            "/usr/local/lib/python3.7/dist-packages/sklearn/neural_network/_multilayer_perceptron.py:571: ConvergenceWarning: Stochastic Optimizer: Maximum iterations (5) reached and the optimization hasn't converged yet.\n",
            "  % self.max_iter, ConvergenceWarning)\n"
          ],
          "name": "stderr"
        },
        {
          "output_type": "stream",
          "text": [
            "Iteration 1, loss = 7.56691679\n",
            "Iteration 2, loss = 6.02127517\n",
            "Iteration 3, loss = 5.97808889\n",
            "Iteration 4, loss = 5.94753493\n",
            "Iteration 5, loss = 5.92274553\n"
          ],
          "name": "stdout"
        },
        {
          "output_type": "stream",
          "text": [
            "/usr/local/lib/python3.7/dist-packages/sklearn/neural_network/_multilayer_perceptron.py:571: ConvergenceWarning: Stochastic Optimizer: Maximum iterations (5) reached and the optimization hasn't converged yet.\n",
            "  % self.max_iter, ConvergenceWarning)\n"
          ],
          "name": "stderr"
        },
        {
          "output_type": "stream",
          "text": [
            "Iteration 1, loss = 7.84551945\n"
          ],
          "name": "stdout"
        },
        {
          "output_type": "stream",
          "text": [
            "/usr/local/lib/python3.7/dist-packages/sklearn/neural_network/_multilayer_perceptron.py:571: ConvergenceWarning: Stochastic Optimizer: Maximum iterations (1) reached and the optimization hasn't converged yet.\n",
            "  % self.max_iter, ConvergenceWarning)\n"
          ],
          "name": "stderr"
        },
        {
          "output_type": "stream",
          "text": [
            "Iteration 1, loss = 7.33130499\n"
          ],
          "name": "stdout"
        },
        {
          "output_type": "stream",
          "text": [
            "/usr/local/lib/python3.7/dist-packages/sklearn/neural_network/_multilayer_perceptron.py:571: ConvergenceWarning: Stochastic Optimizer: Maximum iterations (1) reached and the optimization hasn't converged yet.\n",
            "  % self.max_iter, ConvergenceWarning)\n"
          ],
          "name": "stderr"
        },
        {
          "output_type": "stream",
          "text": [
            "Iteration 1, loss = 14.53401080\n"
          ],
          "name": "stdout"
        },
        {
          "output_type": "stream",
          "text": [
            "/usr/local/lib/python3.7/dist-packages/sklearn/neural_network/_multilayer_perceptron.py:571: ConvergenceWarning: Stochastic Optimizer: Maximum iterations (1) reached and the optimization hasn't converged yet.\n",
            "  % self.max_iter, ConvergenceWarning)\n"
          ],
          "name": "stderr"
        },
        {
          "output_type": "stream",
          "text": [
            "Iteration 1, loss = 12.14165366\n"
          ],
          "name": "stdout"
        },
        {
          "output_type": "stream",
          "text": [
            "/usr/local/lib/python3.7/dist-packages/sklearn/neural_network/_multilayer_perceptron.py:571: ConvergenceWarning: Stochastic Optimizer: Maximum iterations (1) reached and the optimization hasn't converged yet.\n",
            "  % self.max_iter, ConvergenceWarning)\n"
          ],
          "name": "stderr"
        },
        {
          "output_type": "stream",
          "text": [
            "Iteration 1, loss = 7.74712108\n"
          ],
          "name": "stdout"
        },
        {
          "output_type": "stream",
          "text": [
            "/usr/local/lib/python3.7/dist-packages/sklearn/neural_network/_multilayer_perceptron.py:571: ConvergenceWarning: Stochastic Optimizer: Maximum iterations (1) reached and the optimization hasn't converged yet.\n",
            "  % self.max_iter, ConvergenceWarning)\n"
          ],
          "name": "stderr"
        },
        {
          "output_type": "stream",
          "text": [
            "Iteration 1, loss = 8.88402828\n",
            "Iteration 2, loss = 5.94696171\n"
          ],
          "name": "stdout"
        },
        {
          "output_type": "stream",
          "text": [
            "/usr/local/lib/python3.7/dist-packages/sklearn/neural_network/_multilayer_perceptron.py:571: ConvergenceWarning: Stochastic Optimizer: Maximum iterations (2) reached and the optimization hasn't converged yet.\n",
            "  % self.max_iter, ConvergenceWarning)\n"
          ],
          "name": "stderr"
        },
        {
          "output_type": "stream",
          "text": [
            "Iteration 1, loss = 7.21697356\n",
            "Iteration 2, loss = 5.96865861\n"
          ],
          "name": "stdout"
        },
        {
          "output_type": "stream",
          "text": [
            "/usr/local/lib/python3.7/dist-packages/sklearn/neural_network/_multilayer_perceptron.py:571: ConvergenceWarning: Stochastic Optimizer: Maximum iterations (2) reached and the optimization hasn't converged yet.\n",
            "  % self.max_iter, ConvergenceWarning)\n"
          ],
          "name": "stderr"
        },
        {
          "output_type": "stream",
          "text": [
            "Iteration 1, loss = 15.19281864\n",
            "Iteration 2, loss = 5.96835110\n"
          ],
          "name": "stdout"
        },
        {
          "output_type": "stream",
          "text": [
            "/usr/local/lib/python3.7/dist-packages/sklearn/neural_network/_multilayer_perceptron.py:571: ConvergenceWarning: Stochastic Optimizer: Maximum iterations (2) reached and the optimization hasn't converged yet.\n",
            "  % self.max_iter, ConvergenceWarning)\n"
          ],
          "name": "stderr"
        },
        {
          "output_type": "stream",
          "text": [
            "Iteration 1, loss = 9.02361503\n",
            "Iteration 2, loss = 5.92693419\n"
          ],
          "name": "stdout"
        },
        {
          "output_type": "stream",
          "text": [
            "/usr/local/lib/python3.7/dist-packages/sklearn/neural_network/_multilayer_perceptron.py:571: ConvergenceWarning: Stochastic Optimizer: Maximum iterations (2) reached and the optimization hasn't converged yet.\n",
            "  % self.max_iter, ConvergenceWarning)\n"
          ],
          "name": "stderr"
        },
        {
          "output_type": "stream",
          "text": [
            "Iteration 1, loss = 12.78698472\n",
            "Iteration 2, loss = 6.02874167\n"
          ],
          "name": "stdout"
        },
        {
          "output_type": "stream",
          "text": [
            "/usr/local/lib/python3.7/dist-packages/sklearn/neural_network/_multilayer_perceptron.py:571: ConvergenceWarning: Stochastic Optimizer: Maximum iterations (2) reached and the optimization hasn't converged yet.\n",
            "  % self.max_iter, ConvergenceWarning)\n"
          ],
          "name": "stderr"
        },
        {
          "output_type": "stream",
          "text": [
            "Iteration 1, loss = 7.09240705\n",
            "Iteration 2, loss = 5.94791904\n",
            "Iteration 3, loss = 5.88410704\n",
            "Iteration 4, loss = 5.83575156\n"
          ],
          "name": "stdout"
        },
        {
          "output_type": "stream",
          "text": [
            "/usr/local/lib/python3.7/dist-packages/sklearn/neural_network/_multilayer_perceptron.py:571: ConvergenceWarning: Stochastic Optimizer: Maximum iterations (4) reached and the optimization hasn't converged yet.\n",
            "  % self.max_iter, ConvergenceWarning)\n"
          ],
          "name": "stderr"
        },
        {
          "output_type": "stream",
          "text": [
            "Iteration 1, loss = 12.11573968\n",
            "Iteration 2, loss = 5.94431482\n",
            "Iteration 3, loss = 5.88638689\n",
            "Iteration 4, loss = 5.81321433\n"
          ],
          "name": "stdout"
        },
        {
          "output_type": "stream",
          "text": [
            "/usr/local/lib/python3.7/dist-packages/sklearn/neural_network/_multilayer_perceptron.py:571: ConvergenceWarning: Stochastic Optimizer: Maximum iterations (4) reached and the optimization hasn't converged yet.\n",
            "  % self.max_iter, ConvergenceWarning)\n"
          ],
          "name": "stderr"
        },
        {
          "output_type": "stream",
          "text": [
            "Iteration 1, loss = 7.28065093\n",
            "Iteration 2, loss = 5.92868387\n",
            "Iteration 3, loss = 5.88934509\n",
            "Iteration 4, loss = 5.83957378\n"
          ],
          "name": "stdout"
        },
        {
          "output_type": "stream",
          "text": [
            "/usr/local/lib/python3.7/dist-packages/sklearn/neural_network/_multilayer_perceptron.py:571: ConvergenceWarning: Stochastic Optimizer: Maximum iterations (4) reached and the optimization hasn't converged yet.\n",
            "  % self.max_iter, ConvergenceWarning)\n"
          ],
          "name": "stderr"
        },
        {
          "output_type": "stream",
          "text": [
            "Iteration 1, loss = 11.36008276\n",
            "Iteration 2, loss = 5.93481514\n",
            "Iteration 3, loss = 5.80208585\n",
            "Iteration 4, loss = 5.63480300\n"
          ],
          "name": "stdout"
        },
        {
          "output_type": "stream",
          "text": [
            "/usr/local/lib/python3.7/dist-packages/sklearn/neural_network/_multilayer_perceptron.py:571: ConvergenceWarning: Stochastic Optimizer: Maximum iterations (4) reached and the optimization hasn't converged yet.\n",
            "  % self.max_iter, ConvergenceWarning)\n"
          ],
          "name": "stderr"
        },
        {
          "output_type": "stream",
          "text": [
            "Iteration 1, loss = 8.63022497\n",
            "Iteration 2, loss = 6.02416044\n",
            "Iteration 3, loss = 5.94349744\n",
            "Iteration 4, loss = 5.83911909\n"
          ],
          "name": "stdout"
        },
        {
          "output_type": "stream",
          "text": [
            "/usr/local/lib/python3.7/dist-packages/sklearn/neural_network/_multilayer_perceptron.py:571: ConvergenceWarning: Stochastic Optimizer: Maximum iterations (4) reached and the optimization hasn't converged yet.\n",
            "  % self.max_iter, ConvergenceWarning)\n"
          ],
          "name": "stderr"
        },
        {
          "output_type": "stream",
          "text": [
            "Iteration 1, loss = 14.28404194\n",
            "Iteration 2, loss = 6.03393580\n",
            "Iteration 3, loss = 5.82630921\n",
            "Iteration 4, loss = 5.61937853\n",
            "Iteration 5, loss = 5.47350651\n"
          ],
          "name": "stdout"
        },
        {
          "output_type": "stream",
          "text": [
            "/usr/local/lib/python3.7/dist-packages/sklearn/neural_network/_multilayer_perceptron.py:571: ConvergenceWarning: Stochastic Optimizer: Maximum iterations (5) reached and the optimization hasn't converged yet.\n",
            "  % self.max_iter, ConvergenceWarning)\n"
          ],
          "name": "stderr"
        },
        {
          "output_type": "stream",
          "text": [
            "Iteration 1, loss = 12.14072710\n",
            "Iteration 2, loss = 6.11589934\n",
            "Iteration 3, loss = 6.06187786\n",
            "Iteration 4, loss = 6.01849478\n",
            "Iteration 5, loss = 5.97926376\n"
          ],
          "name": "stdout"
        },
        {
          "output_type": "stream",
          "text": [
            "/usr/local/lib/python3.7/dist-packages/sklearn/neural_network/_multilayer_perceptron.py:571: ConvergenceWarning: Stochastic Optimizer: Maximum iterations (5) reached and the optimization hasn't converged yet.\n",
            "  % self.max_iter, ConvergenceWarning)\n"
          ],
          "name": "stderr"
        },
        {
          "output_type": "stream",
          "text": [
            "Iteration 1, loss = 10.80462317\n",
            "Iteration 2, loss = 6.02810310\n",
            "Iteration 3, loss = 5.95346489\n",
            "Iteration 4, loss = 5.88496014\n",
            "Iteration 5, loss = 5.81972788\n"
          ],
          "name": "stdout"
        },
        {
          "output_type": "stream",
          "text": [
            "/usr/local/lib/python3.7/dist-packages/sklearn/neural_network/_multilayer_perceptron.py:571: ConvergenceWarning: Stochastic Optimizer: Maximum iterations (5) reached and the optimization hasn't converged yet.\n",
            "  % self.max_iter, ConvergenceWarning)\n"
          ],
          "name": "stderr"
        },
        {
          "output_type": "stream",
          "text": [
            "Iteration 1, loss = 8.13230158\n",
            "Iteration 2, loss = 5.95853347\n",
            "Iteration 3, loss = 5.88099968\n",
            "Iteration 4, loss = 5.80995495\n",
            "Iteration 5, loss = 5.74349659\n"
          ],
          "name": "stdout"
        },
        {
          "output_type": "stream",
          "text": [
            "/usr/local/lib/python3.7/dist-packages/sklearn/neural_network/_multilayer_perceptron.py:571: ConvergenceWarning: Stochastic Optimizer: Maximum iterations (5) reached and the optimization hasn't converged yet.\n",
            "  % self.max_iter, ConvergenceWarning)\n"
          ],
          "name": "stderr"
        },
        {
          "output_type": "stream",
          "text": [
            "Iteration 1, loss = 10.59219561\n",
            "Iteration 2, loss = 6.14689342\n",
            "Iteration 3, loss = 5.97337124\n",
            "Iteration 4, loss = 5.77618166\n",
            "Iteration 5, loss = 5.60414943\n"
          ],
          "name": "stdout"
        },
        {
          "output_type": "stream",
          "text": [
            "/usr/local/lib/python3.7/dist-packages/sklearn/neural_network/_multilayer_perceptron.py:571: ConvergenceWarning: Stochastic Optimizer: Maximum iterations (5) reached and the optimization hasn't converged yet.\n",
            "  % self.max_iter, ConvergenceWarning)\n"
          ],
          "name": "stderr"
        },
        {
          "output_type": "stream",
          "text": [
            "Iteration 1, loss = 8.91006220\n"
          ],
          "name": "stdout"
        },
        {
          "output_type": "stream",
          "text": [
            "/usr/local/lib/python3.7/dist-packages/sklearn/neural_network/_multilayer_perceptron.py:571: ConvergenceWarning: Stochastic Optimizer: Maximum iterations (1) reached and the optimization hasn't converged yet.\n",
            "  % self.max_iter, ConvergenceWarning)\n"
          ],
          "name": "stderr"
        },
        {
          "output_type": "stream",
          "text": [
            "Iteration 1, loss = 9.07189639\n"
          ],
          "name": "stdout"
        },
        {
          "output_type": "stream",
          "text": [
            "/usr/local/lib/python3.7/dist-packages/sklearn/neural_network/_multilayer_perceptron.py:571: ConvergenceWarning: Stochastic Optimizer: Maximum iterations (1) reached and the optimization hasn't converged yet.\n",
            "  % self.max_iter, ConvergenceWarning)\n"
          ],
          "name": "stderr"
        },
        {
          "output_type": "stream",
          "text": [
            "Iteration 1, loss = 8.90554934\n"
          ],
          "name": "stdout"
        },
        {
          "output_type": "stream",
          "text": [
            "/usr/local/lib/python3.7/dist-packages/sklearn/neural_network/_multilayer_perceptron.py:571: ConvergenceWarning: Stochastic Optimizer: Maximum iterations (1) reached and the optimization hasn't converged yet.\n",
            "  % self.max_iter, ConvergenceWarning)\n"
          ],
          "name": "stderr"
        },
        {
          "output_type": "stream",
          "text": [
            "Iteration 1, loss = 6.84010654\n"
          ],
          "name": "stdout"
        },
        {
          "output_type": "stream",
          "text": [
            "/usr/local/lib/python3.7/dist-packages/sklearn/neural_network/_multilayer_perceptron.py:571: ConvergenceWarning: Stochastic Optimizer: Maximum iterations (1) reached and the optimization hasn't converged yet.\n",
            "  % self.max_iter, ConvergenceWarning)\n"
          ],
          "name": "stderr"
        },
        {
          "output_type": "stream",
          "text": [
            "Iteration 1, loss = 6.94496269\n"
          ],
          "name": "stdout"
        },
        {
          "output_type": "stream",
          "text": [
            "/usr/local/lib/python3.7/dist-packages/sklearn/neural_network/_multilayer_perceptron.py:571: ConvergenceWarning: Stochastic Optimizer: Maximum iterations (1) reached and the optimization hasn't converged yet.\n",
            "  % self.max_iter, ConvergenceWarning)\n"
          ],
          "name": "stderr"
        },
        {
          "output_type": "stream",
          "text": [
            "Iteration 1, loss = 8.20060563\n",
            "Iteration 2, loss = 5.94478345\n"
          ],
          "name": "stdout"
        },
        {
          "output_type": "stream",
          "text": [
            "/usr/local/lib/python3.7/dist-packages/sklearn/neural_network/_multilayer_perceptron.py:571: ConvergenceWarning: Stochastic Optimizer: Maximum iterations (2) reached and the optimization hasn't converged yet.\n",
            "  % self.max_iter, ConvergenceWarning)\n"
          ],
          "name": "stderr"
        },
        {
          "output_type": "stream",
          "text": [
            "Iteration 1, loss = 7.81914603\n",
            "Iteration 2, loss = 5.91878402\n"
          ],
          "name": "stdout"
        },
        {
          "output_type": "stream",
          "text": [
            "/usr/local/lib/python3.7/dist-packages/sklearn/neural_network/_multilayer_perceptron.py:571: ConvergenceWarning: Stochastic Optimizer: Maximum iterations (2) reached and the optimization hasn't converged yet.\n",
            "  % self.max_iter, ConvergenceWarning)\n"
          ],
          "name": "stderr"
        },
        {
          "output_type": "stream",
          "text": [
            "Iteration 1, loss = 10.86577390\n",
            "Iteration 2, loss = 5.95187335\n"
          ],
          "name": "stdout"
        },
        {
          "output_type": "stream",
          "text": [
            "/usr/local/lib/python3.7/dist-packages/sklearn/neural_network/_multilayer_perceptron.py:571: ConvergenceWarning: Stochastic Optimizer: Maximum iterations (2) reached and the optimization hasn't converged yet.\n",
            "  % self.max_iter, ConvergenceWarning)\n"
          ],
          "name": "stderr"
        },
        {
          "output_type": "stream",
          "text": [
            "Iteration 1, loss = 7.17779179\n",
            "Iteration 2, loss = 5.94367999\n"
          ],
          "name": "stdout"
        },
        {
          "output_type": "stream",
          "text": [
            "/usr/local/lib/python3.7/dist-packages/sklearn/neural_network/_multilayer_perceptron.py:571: ConvergenceWarning: Stochastic Optimizer: Maximum iterations (2) reached and the optimization hasn't converged yet.\n",
            "  % self.max_iter, ConvergenceWarning)\n"
          ],
          "name": "stderr"
        },
        {
          "output_type": "stream",
          "text": [
            "Iteration 1, loss = 7.51401921\n",
            "Iteration 2, loss = 5.95463367\n"
          ],
          "name": "stdout"
        },
        {
          "output_type": "stream",
          "text": [
            "/usr/local/lib/python3.7/dist-packages/sklearn/neural_network/_multilayer_perceptron.py:571: ConvergenceWarning: Stochastic Optimizer: Maximum iterations (2) reached and the optimization hasn't converged yet.\n",
            "  % self.max_iter, ConvergenceWarning)\n"
          ],
          "name": "stderr"
        },
        {
          "output_type": "stream",
          "text": [
            "Iteration 1, loss = 7.49332601\n",
            "Iteration 2, loss = 5.95435892\n",
            "Iteration 3, loss = 5.85600083\n",
            "Iteration 4, loss = 5.71525069\n"
          ],
          "name": "stdout"
        },
        {
          "output_type": "stream",
          "text": [
            "/usr/local/lib/python3.7/dist-packages/sklearn/neural_network/_multilayer_perceptron.py:571: ConvergenceWarning: Stochastic Optimizer: Maximum iterations (4) reached and the optimization hasn't converged yet.\n",
            "  % self.max_iter, ConvergenceWarning)\n"
          ],
          "name": "stderr"
        },
        {
          "output_type": "stream",
          "text": [
            "Iteration 1, loss = 7.15337683\n",
            "Iteration 2, loss = 5.83430575\n",
            "Iteration 3, loss = 5.62751752\n",
            "Iteration 4, loss = 5.47547016\n"
          ],
          "name": "stdout"
        },
        {
          "output_type": "stream",
          "text": [
            "/usr/local/lib/python3.7/dist-packages/sklearn/neural_network/_multilayer_perceptron.py:571: ConvergenceWarning: Stochastic Optimizer: Maximum iterations (4) reached and the optimization hasn't converged yet.\n",
            "  % self.max_iter, ConvergenceWarning)\n"
          ],
          "name": "stderr"
        },
        {
          "output_type": "stream",
          "text": [
            "Iteration 1, loss = 6.57282224\n",
            "Iteration 2, loss = 5.92522900\n",
            "Iteration 3, loss = 5.85939311\n",
            "Iteration 4, loss = 5.69594897\n"
          ],
          "name": "stdout"
        },
        {
          "output_type": "stream",
          "text": [
            "/usr/local/lib/python3.7/dist-packages/sklearn/neural_network/_multilayer_perceptron.py:571: ConvergenceWarning: Stochastic Optimizer: Maximum iterations (4) reached and the optimization hasn't converged yet.\n",
            "  % self.max_iter, ConvergenceWarning)\n"
          ],
          "name": "stderr"
        },
        {
          "output_type": "stream",
          "text": [
            "Iteration 1, loss = 11.97402330\n",
            "Iteration 2, loss = 5.96024810\n",
            "Iteration 3, loss = 5.88698028\n",
            "Iteration 4, loss = 5.76480818\n"
          ],
          "name": "stdout"
        },
        {
          "output_type": "stream",
          "text": [
            "/usr/local/lib/python3.7/dist-packages/sklearn/neural_network/_multilayer_perceptron.py:571: ConvergenceWarning: Stochastic Optimizer: Maximum iterations (4) reached and the optimization hasn't converged yet.\n",
            "  % self.max_iter, ConvergenceWarning)\n"
          ],
          "name": "stderr"
        },
        {
          "output_type": "stream",
          "text": [
            "Iteration 1, loss = 10.55968819\n",
            "Iteration 2, loss = 6.08471716\n",
            "Iteration 3, loss = 5.90604212\n",
            "Iteration 4, loss = 5.73785962\n"
          ],
          "name": "stdout"
        },
        {
          "output_type": "stream",
          "text": [
            "/usr/local/lib/python3.7/dist-packages/sklearn/neural_network/_multilayer_perceptron.py:571: ConvergenceWarning: Stochastic Optimizer: Maximum iterations (4) reached and the optimization hasn't converged yet.\n",
            "  % self.max_iter, ConvergenceWarning)\n"
          ],
          "name": "stderr"
        },
        {
          "output_type": "stream",
          "text": [
            "Iteration 1, loss = 7.93076712\n",
            "Iteration 2, loss = 5.92312702\n",
            "Iteration 3, loss = 5.74078413\n",
            "Iteration 4, loss = 5.57762150\n",
            "Iteration 5, loss = 5.46347967\n"
          ],
          "name": "stdout"
        },
        {
          "output_type": "stream",
          "text": [
            "/usr/local/lib/python3.7/dist-packages/sklearn/neural_network/_multilayer_perceptron.py:571: ConvergenceWarning: Stochastic Optimizer: Maximum iterations (5) reached and the optimization hasn't converged yet.\n",
            "  % self.max_iter, ConvergenceWarning)\n"
          ],
          "name": "stderr"
        },
        {
          "output_type": "stream",
          "text": [
            "Iteration 1, loss = 8.95261501\n",
            "Iteration 2, loss = 5.92441391\n",
            "Iteration 3, loss = 5.80408043\n",
            "Iteration 4, loss = 5.61529662\n",
            "Iteration 5, loss = 5.45597633\n"
          ],
          "name": "stdout"
        },
        {
          "output_type": "stream",
          "text": [
            "/usr/local/lib/python3.7/dist-packages/sklearn/neural_network/_multilayer_perceptron.py:571: ConvergenceWarning: Stochastic Optimizer: Maximum iterations (5) reached and the optimization hasn't converged yet.\n",
            "  % self.max_iter, ConvergenceWarning)\n"
          ],
          "name": "stderr"
        },
        {
          "output_type": "stream",
          "text": [
            "Iteration 1, loss = 6.55273055\n",
            "Iteration 2, loss = 5.85179856\n",
            "Iteration 3, loss = 5.68179128\n",
            "Iteration 4, loss = 5.54389611\n",
            "Iteration 5, loss = 5.44739453\n"
          ],
          "name": "stdout"
        },
        {
          "output_type": "stream",
          "text": [
            "/usr/local/lib/python3.7/dist-packages/sklearn/neural_network/_multilayer_perceptron.py:571: ConvergenceWarning: Stochastic Optimizer: Maximum iterations (5) reached and the optimization hasn't converged yet.\n",
            "  % self.max_iter, ConvergenceWarning)\n"
          ],
          "name": "stderr"
        },
        {
          "output_type": "stream",
          "text": [
            "Iteration 1, loss = 8.01538982\n",
            "Iteration 2, loss = 5.94252277\n",
            "Iteration 3, loss = 5.90794986\n",
            "Iteration 4, loss = 5.85789931\n",
            "Iteration 5, loss = 5.79244970\n"
          ],
          "name": "stdout"
        },
        {
          "output_type": "stream",
          "text": [
            "/usr/local/lib/python3.7/dist-packages/sklearn/neural_network/_multilayer_perceptron.py:571: ConvergenceWarning: Stochastic Optimizer: Maximum iterations (5) reached and the optimization hasn't converged yet.\n",
            "  % self.max_iter, ConvergenceWarning)\n"
          ],
          "name": "stderr"
        },
        {
          "output_type": "stream",
          "text": [
            "Iteration 1, loss = 8.11769289\n",
            "Iteration 2, loss = 5.93624025\n",
            "Iteration 3, loss = 5.87898905\n",
            "Iteration 4, loss = 5.77147654\n",
            "Iteration 5, loss = 5.61834535\n"
          ],
          "name": "stdout"
        },
        {
          "output_type": "stream",
          "text": [
            "/usr/local/lib/python3.7/dist-packages/sklearn/neural_network/_multilayer_perceptron.py:571: ConvergenceWarning: Stochastic Optimizer: Maximum iterations (5) reached and the optimization hasn't converged yet.\n",
            "  % self.max_iter, ConvergenceWarning)\n",
            "[Parallel(n_jobs=1)]: Done  60 out of  60 | elapsed:  8.6min finished\n"
          ],
          "name": "stderr"
        },
        {
          "output_type": "stream",
          "text": [
            "Iteration 1, loss = 7.26204837\n",
            "Iteration 2, loss = 5.91379129\n",
            "Iteration 3, loss = 5.76404352\n",
            "Iteration 4, loss = 5.58044288\n",
            "Iteration 5, loss = 5.43442323\n"
          ],
          "name": "stdout"
        },
        {
          "output_type": "stream",
          "text": [
            "/usr/local/lib/python3.7/dist-packages/sklearn/neural_network/_multilayer_perceptron.py:571: ConvergenceWarning: Stochastic Optimizer: Maximum iterations (5) reached and the optimization hasn't converged yet.\n",
            "  % self.max_iter, ConvergenceWarning)\n"
          ],
          "name": "stderr"
        },
        {
          "output_type": "execute_result",
          "data": {
            "text/plain": [
              "GridSearchCV(cv=5, error_score=nan,\n",
              "             estimator=MLPRegressor(activation='relu', alpha=0.0001,\n",
              "                                    batch_size='auto', beta_1=0.9, beta_2=0.999,\n",
              "                                    early_stopping=False, epsilon=1e-08,\n",
              "                                    hidden_layer_sizes=(100,),\n",
              "                                    learning_rate='constant',\n",
              "                                    learning_rate_init=0.001, max_fun=15000,\n",
              "                                    max_iter=200, momentum=0.9,\n",
              "                                    n_iter_no_change=10,\n",
              "                                    nesterovs_momentum=True, power_t=0.5,\n",
              "                                    random_state=None, shuffle=True,\n",
              "                                    solver='adam', tol=0.0001,\n",
              "                                    validation_fraction=0.1, verbose=True,\n",
              "                                    warm_start=False),\n",
              "             iid='deprecated', n_jobs=None,\n",
              "             param_grid={'hidden_layer_sizes': (10, 20, 30),\n",
              "                         'max_iter': (1, 2, 4, 5)},\n",
              "             pre_dispatch='2*n_jobs', refit=True, return_train_score=False,\n",
              "             scoring='neg_root_mean_squared_error', verbose=1)"
            ]
          },
          "metadata": {
            "tags": []
          },
          "execution_count": 35
        }
      ]
    },
    {
      "cell_type": "code",
      "metadata": {
        "colab": {
          "base_uri": "https://localhost:8080/"
        },
        "id": "uiNmOe0vvD7a",
        "outputId": "2584dcc2-5bcb-4890-8053-9d755a0a9aa8"
      },
      "source": [
        "print(-clf.best_score_)\n",
        "print(clf.best_params_)"
      ],
      "execution_count": 36,
      "outputs": [
        {
          "output_type": "stream",
          "text": [
            "3.3165700466329304\n",
            "{'hidden_layer_sizes': 30, 'max_iter': 5}\n"
          ],
          "name": "stdout"
        }
      ]
    },
    {
      "cell_type": "code",
      "metadata": {
        "colab": {
          "base_uri": "https://localhost:8080/"
        },
        "id": "iseYADCOvD7a",
        "outputId": "9c983e54-ed0b-4256-ac97-c1ebaca0a735"
      },
      "source": [
        "clf.cv_results_"
      ],
      "execution_count": 37,
      "outputs": [
        {
          "output_type": "execute_result",
          "data": {
            "text/plain": [
              "{'mean_fit_time': array([ 2.53531675,  4.85013585, 10.02343483, 12.57274375,  2.70958834,\n",
              "         5.27017665, 10.89100351, 15.50944996,  2.93613496,  5.70159826,\n",
              "        13.0959568 , 16.03570013]),\n",
              " 'mean_score_time': array([0.04056253, 0.04100375, 0.10147409, 0.08856573, 0.06099691,\n",
              "        0.0613287 , 0.11222377, 0.21611185, 0.09811735, 0.08737011,\n",
              "        0.29548178, 0.18857403]),\n",
              " 'mean_test_score': array([-3.50932511, -3.46945094, -3.42843389, -3.35099022, -3.47719907,\n",
              "        -3.45937831, -3.39367697, -3.37061045, -3.45153018, -3.43484945,\n",
              "        -3.34299805, -3.31657005]),\n",
              " 'param_hidden_layer_sizes': masked_array(data=[10, 10, 10, 10, 20, 20, 20, 20, 30, 30, 30, 30],\n",
              "              mask=[False, False, False, False, False, False, False, False,\n",
              "                    False, False, False, False],\n",
              "        fill_value='?',\n",
              "             dtype=object),\n",
              " 'param_max_iter': masked_array(data=[1, 2, 4, 5, 1, 2, 4, 5, 1, 2, 4, 5],\n",
              "              mask=[False, False, False, False, False, False, False, False,\n",
              "                    False, False, False, False],\n",
              "        fill_value='?',\n",
              "             dtype=object),\n",
              " 'params': [{'hidden_layer_sizes': 10, 'max_iter': 1},\n",
              "  {'hidden_layer_sizes': 10, 'max_iter': 2},\n",
              "  {'hidden_layer_sizes': 10, 'max_iter': 4},\n",
              "  {'hidden_layer_sizes': 10, 'max_iter': 5},\n",
              "  {'hidden_layer_sizes': 20, 'max_iter': 1},\n",
              "  {'hidden_layer_sizes': 20, 'max_iter': 2},\n",
              "  {'hidden_layer_sizes': 20, 'max_iter': 4},\n",
              "  {'hidden_layer_sizes': 20, 'max_iter': 5},\n",
              "  {'hidden_layer_sizes': 30, 'max_iter': 1},\n",
              "  {'hidden_layer_sizes': 30, 'max_iter': 2},\n",
              "  {'hidden_layer_sizes': 30, 'max_iter': 4},\n",
              "  {'hidden_layer_sizes': 30, 'max_iter': 5}],\n",
              " 'rank_test_score': array([12, 10,  6,  3, 11,  9,  5,  4,  8,  7,  2,  1], dtype=int32),\n",
              " 'split0_test_score': array([-3.49276729, -3.48922636, -3.36002761, -3.30041704, -3.46786422,\n",
              "        -3.45916076, -3.40898675, -3.28833598, -3.45147061, -3.45164884,\n",
              "        -3.34699603, -3.28382335]),\n",
              " 'split1_test_score': array([-3.53617747, -3.48234439, -3.45968292, -3.30705348, -3.50264616,\n",
              "        -3.46236989, -3.41661179, -3.47518677, -3.47336156, -3.44386985,\n",
              "        -3.3103692 , -3.29673558]),\n",
              " 'split2_test_score': array([-3.5623574 , -3.48928855, -3.44268449, -3.30568657, -3.50846186,\n",
              "        -3.44470778, -3.39630419, -3.40930208, -3.45397861, -3.45289954,\n",
              "        -3.34535604, -3.27649274]),\n",
              " 'split3_test_score': array([-3.48418034, -3.47374316, -3.44591405, -3.4628231 , -3.50398671,\n",
              "        -3.48715373, -3.39904194, -3.40228315, -3.47281118, -3.45781095,\n",
              "        -3.39984448, -3.43545032]),\n",
              " 'split4_test_score': array([-3.47114304, -3.41265222, -3.43386037, -3.37897092, -3.40303643,\n",
              "        -3.44349938, -3.34744015, -3.27794429, -3.40602896, -3.36801808,\n",
              "        -3.31242453, -3.29034824]),\n",
              " 'std_fit_time': array([0.02788297, 0.01340508, 0.4067656 , 0.53124666, 0.04539525,\n",
              "        0.05223149, 0.50736265, 1.41681945, 0.02780278, 0.04143698,\n",
              "        0.32334353, 0.69828685]),\n",
              " 'std_score_time': array([0.00137628, 0.00093326, 0.05668362, 0.03997119, 0.00246607,\n",
              "        0.00119992, 0.03739168, 0.05681649, 0.0241467 , 0.00183584,\n",
              "        0.04820945, 0.0367982 ]),\n",
              " 'std_test_score': array([0.03434462, 0.02896673, 0.0351966 , 0.06297621, 0.03982394,\n",
              "        0.0157977 , 0.02422364, 0.0758848 , 0.02451877, 0.03371366,\n",
              "        0.03241124, 0.05981981])}"
            ]
          },
          "metadata": {
            "tags": []
          },
          "execution_count": 37
        }
      ]
    },
    {
      "cell_type": "code",
      "metadata": {
        "colab": {
          "base_uri": "https://localhost:8080/",
          "height": 405
        },
        "id": "RH9FVB-vvD7b",
        "outputId": "d0b344c3-7c31-4a12-eb6e-c4bc2f83b2f8"
      },
      "source": [
        "plt.figure(figsize=(8, 6))\n",
        "plt.barh(range(12), -clf.cv_results_['mean_test_score'])\n",
        "_ = plt.yticks(range(12), clf.cv_results_['params'])\n",
        "plt.xlabel('mean_test_score')"
      ],
      "execution_count": 38,
      "outputs": [
        {
          "output_type": "execute_result",
          "data": {
            "text/plain": [
              "Text(0.5, 0, 'mean_test_score')"
            ]
          },
          "metadata": {
            "tags": []
          },
          "execution_count": 38
        },
        {
          "output_type": "display_data",
          "data": {
            "image/png": "[encoded data removed]",
            "text/plain": [
              "<Figure size 576x432 with 1 Axes>"
            ]
          },
          "metadata": {
            "tags": [],
            "needs_background": "light"
          }
        }
      ]
    },
    {
      "cell_type": "code",
      "metadata": {
        "colab": {
          "base_uri": "https://localhost:8080/"
        },
        "id": "tg4ErO8YvD7b",
        "outputId": "5aa8cd71-fc88-49ea-bde4-13aedb8be7fc"
      },
      "source": [
        "model = MLPRegressor(hidden_layer_sizes=30,learning_rate_init=0.01,max_iter=5,early_stopping=True,verbose=True)\n",
        "model.fit(X_train,Y_train)\n",
        "pred_mlp = model.predict(X_test)\n",
        "mse = np.sqrt(mean_squared_error(pred_mlp, Y_test))\n",
        "print(mse)"
      ],
      "execution_count": 39,
      "outputs": [
        {
          "output_type": "stream",
          "text": [
            "Iteration 1, loss = 6.33894814\n",
            "Validation score: 0.935079\n",
            "Iteration 2, loss = 5.52233118\n",
            "Validation score: 0.938267\n",
            "Iteration 3, loss = 5.46772605\n",
            "Validation score: 0.938468\n",
            "Iteration 4, loss = 5.44558315\n",
            "Validation score: 0.937337\n",
            "Iteration 5, loss = 5.43149050\n",
            "Validation score: 0.937375\n"
          ],
          "name": "stdout"
        },
        {
          "output_type": "stream",
          "text": [
            "/usr/local/lib/python3.7/dist-packages/sklearn/neural_network/_multilayer_perceptron.py:571: ConvergenceWarning: Stochastic Optimizer: Maximum iterations (5) reached and the optimization hasn't converged yet.\n",
            "  % self.max_iter, ConvergenceWarning)\n"
          ],
          "name": "stderr"
        },
        {
          "output_type": "stream",
          "text": [
            "3.2570964199895482\n"
          ],
          "name": "stdout"
        }
      ]
    },
    {
      "cell_type": "code",
      "metadata": {
        "id": "J9glqVJBN10q"
      },
      "source": [
        "filename='MLP_model.sav'\n",
        "pickle.dump(model,open(filename,'wb'))"
      ],
      "execution_count": 40,
      "outputs": []
    },
    {
      "cell_type": "code",
      "metadata": {
        "colab": {
          "base_uri": "https://localhost:8080/",
          "height": 283
        },
        "id": "uc6qN132vD7b",
        "outputId": "4f3b632d-0b10-4a3a-b7fc-f4968158ec41"
      },
      "source": [
        "plt.scatter(pred_lr, Y_test)"
      ],
      "execution_count": 41,
      "outputs": [
        {
          "output_type": "execute_result",
          "data": {
            "text/plain": [
              "<matplotlib.collections.PathCollection at 0x7fecf3bb3cd0>"
            ]
          },
          "metadata": {
            "tags": []
          },
          "execution_count": 41
        },
        {
          "output_type": "display_data",
          "data": {
            "image/png": "[encoded data removed]",
            "text/plain": [
              "<Figure size 432x288 with 1 Axes>"
            ]
          },
          "metadata": {
            "tags": [],
            "needs_background": "light"
          }
        }
      ]
    },
    {
      "cell_type": "code",
      "metadata": {
        "colab": {
          "base_uri": "https://localhost:8080/",
          "height": 283
        },
        "id": "R4qH4Li-vD7c",
        "outputId": "8b90d8a0-7bf7-4ca1-dc81-9f42c74291e6"
      },
      "source": [
        "plt.scatter(pred_ridge, Y_test)"
      ],
      "execution_count": 42,
      "outputs": [
        {
          "output_type": "execute_result",
          "data": {
            "text/plain": [
              "<matplotlib.collections.PathCollection at 0x7fecf4848ed0>"
            ]
          },
          "metadata": {
            "tags": []
          },
          "execution_count": 42
        },
        {
          "output_type": "display_data",
          "data": {
            "image/png": "[encoded data removed]",
            "text/plain": [
              "<Figure size 432x288 with 1 Axes>"
            ]
          },
          "metadata": {
            "tags": [],
            "needs_background": "light"
          }
        }
      ]
    },
    {
      "cell_type": "code",
      "metadata": {
        "colab": {
          "base_uri": "https://localhost:8080/",
          "height": 283
        },
        "id": "BWERQIZWvD7c",
        "outputId": "697cddf6-caaa-4eb1-d60a-c773d6c1f01e"
      },
      "source": [
        "plt.scatter(pred_mlp, Y_test)"
      ],
      "execution_count": 43,
      "outputs": [
        {
          "output_type": "execute_result",
          "data": {
            "text/plain": [
              "<matplotlib.collections.PathCollection at 0x7fecf3e2a050>"
            ]
          },
          "metadata": {
            "tags": []
          },
          "execution_count": 43
        },
        {
          "output_type": "display_data",
          "data": {
            "image/png": "[encoded data removed]",
            "text/plain": [
              "<Figure size 432x288 with 1 Axes>"
            ]
          },
          "metadata": {
            "tags": [],
            "needs_background": "light"
          }
        }
      ]
    },
    {
      "cell_type": "code",
      "metadata": {
        "id": "ySFvaA4QvD7c"
      },
      "source": [
        "best_mse = 1.0\n",
        "for x1 in np.linspace(0.05, 0.95, 19):\n",
        "    for x2 in np.linspace(0.05, 0.95, 19):\n",
        "        if x1 + x2 >= 1:\n",
        "            continue\n",
        "        \n",
        "        x3 = 1 - x1 - x2\n",
        "        \n",
        "        mse = np.sqrt(mean_squared_error((pred_lr*x1+pred_ridge*x2+pred_mlp*x3), Y_test))\n",
        "        if mse < best_mse:\n",
        "            print(x1, x2, x3, mse)\n",
        "            best_mse = mse"
      ],
      "execution_count": 57,
      "outputs": []
    },
    {
      "cell_type": "code",
      "metadata": {
        "colab": {
          "base_uri": "https://localhost:8080/"
        },
        "id": "ecBZ7AkYvD7c",
        "outputId": "d90e6aec-9e95-48b9-b07f-8892ad92dd69"
      },
      "source": [
        "mse = np.sqrt(mean_squared_error((pred_lr*0.05+pred_ridge*0.05+pred_mlp*0.9), Y_test))\n",
        "print(mse)"
      ],
      "execution_count": 45,
      "outputs": [
        {
          "output_type": "stream",
          "text": [
            "3.2598739755368173\n"
          ],
          "name": "stdout"
        }
      ]
    },
    {
      "cell_type": "code",
      "metadata": {
        "colab": {
          "base_uri": "https://localhost:8080/",
          "height": 283
        },
        "id": "CaDG-_v9vD7d",
        "outputId": "1a6b430a-9dc0-4606-8d08-c445b840ea3e"
      },
      "source": [
        "plt.scatter((pred_lr*0.05+pred_ridge*0.05+pred_mlp*0.9), Y_test)"
      ],
      "execution_count": 46,
      "outputs": [
        {
          "output_type": "execute_result",
          "data": {
            "text/plain": [
              "<matplotlib.collections.PathCollection at 0x7fecf4b673d0>"
            ]
          },
          "metadata": {
            "tags": []
          },
          "execution_count": 46
        },
        {
          "output_type": "display_data",
          "data": {
            "image/png": "[encoded data removed]",
            "text/plain": [
              "<Figure size 432x288 with 1 Axes>"
            ]
          },
          "metadata": {
            "tags": [],
            "needs_background": "light"
          }
        }
      ]
    },
    {
      "cell_type": "code",
      "metadata": {
        "colab": {
          "base_uri": "https://localhost:8080/",
          "height": 283
        },
        "id": "rx0G_UtNvD7e",
        "outputId": "75e04bd7-1410-4ed6-e90e-188b989df3c4"
      },
      "source": [
        "plt.scatter(df['duration'].iloc[:1000], df['total_amount'].iloc[:1000])"
      ],
      "execution_count": 47,
      "outputs": [
        {
          "output_type": "execute_result",
          "data": {
            "text/plain": [
              "<matplotlib.collections.PathCollection at 0x7fecf41e97d0>"
            ]
          },
          "metadata": {
            "tags": []
          },
          "execution_count": 47
        },
        {
          "output_type": "display_data",
          "data": {
            "image/png": "[encoded data removed]",
            "text/plain": [
              "<Figure size 432x288 with 1 Axes>"
            ]
          },
          "metadata": {
            "tags": [],
            "needs_background": "light"
          }
        }
      ]
    },
    {
      "cell_type": "code",
      "metadata": {
        "colab": {
          "base_uri": "https://localhost:8080/",
          "height": 513
        },
        "id": "2mOYoUogvD7e",
        "outputId": "df5366af-5526-48a7-ef75-f825ee0756c6"
      },
      "source": [
        "sns.jointplot(df['duration'].iloc[:1000], df['total_amount'].iloc[:1000], kind=\"reg\")"
      ],
      "execution_count": 48,
      "outputs": [
        {
          "output_type": "stream",
          "text": [
            "/usr/local/lib/python3.7/dist-packages/seaborn/_decorators.py:43: FutureWarning: Pass the following variables as keyword args: x, y. From version 0.12, the only valid positional argument will be `data`, and passing other arguments without an explicit keyword will result in an error or misinterpretation.\n",
            "  FutureWarning\n"
          ],
          "name": "stderr"
        },
        {
          "output_type": "execute_result",
          "data": {
            "text/plain": [
              "<seaborn.axisgrid.JointGrid at 0x7fecf41f0550>"
            ]
          },
          "metadata": {
            "tags": []
          },
          "execution_count": 48
        },
        {
          "output_type": "display_data",
          "data": {
            "image/png": "[encoded data removed]",
            "text/plain": [
              "<Figure size 432x432 with 3 Axes>"
            ]
          },
          "metadata": {
            "tags": [],
            "needs_background": "light"
          }
        }
      ]
    },
    {
      "cell_type": "code",
      "metadata": {
        "colab": {
          "base_uri": "https://localhost:8080/",
          "height": 461
        },
        "id": "HadglFczvD7f",
        "outputId": "53b01fa2-1d18-4578-db91-eb9b86964298"
      },
      "source": [
        "plt.figure(figsize=(10, 6))\n",
        "sns.barplot(df['tpep_pickup_hour'].iloc[:], df['total_amount'].iloc[:])"
      ],
      "execution_count": 49,
      "outputs": [
        {
          "output_type": "stream",
          "text": [
            "/usr/local/lib/python3.7/dist-packages/seaborn/_decorators.py:43: FutureWarning: Pass the following variables as keyword args: x, y. From version 0.12, the only valid positional argument will be `data`, and passing other arguments without an explicit keyword will result in an error or misinterpretation.\n",
            "  FutureWarning\n"
          ],
          "name": "stderr"
        },
        {
          "output_type": "execute_result",
          "data": {
            "text/plain": [
              "<matplotlib.axes._subplots.AxesSubplot at 0x7fecf5927cd0>"
            ]
          },
          "metadata": {
            "tags": []
          },
          "execution_count": 49
        },
        {
          "output_type": "display_data",
          "data": {
            "image/png": "[encoded data removed]",
            "text/plain": [
              "<Figure size 720x432 with 1 Axes>"
            ]
          },
          "metadata": {
            "tags": [],
            "needs_background": "light"
          }
        }
      ]
    },
    {
      "cell_type": "code",
      "metadata": {
        "colab": {
          "base_uri": "https://localhost:8080/",
          "height": 461
        },
        "id": "hmtT4vL7vD7f",
        "outputId": "d1d88d67-614f-4b1a-a92b-3dbc034e8721"
      },
      "source": [
        "plt.figure(figsize=(10, 6))\n",
        "sns.barplot(df['tpep_dropoff_hour'].iloc[:], df['total_amount'].iloc[:])"
      ],
      "execution_count": 50,
      "outputs": [
        {
          "output_type": "stream",
          "text": [
            "/usr/local/lib/python3.7/dist-packages/seaborn/_decorators.py:43: FutureWarning: Pass the following variables as keyword args: x, y. From version 0.12, the only valid positional argument will be `data`, and passing other arguments without an explicit keyword will result in an error or misinterpretation.\n",
            "  FutureWarning\n"
          ],
          "name": "stderr"
        },
        {
          "output_type": "execute_result",
          "data": {
            "text/plain": [
              "<matplotlib.axes._subplots.AxesSubplot at 0x7fecf70d7f10>"
            ]
          },
          "metadata": {
            "tags": []
          },
          "execution_count": 50
        },
        {
          "output_type": "display_data",
          "data": {
            "image/png": "[encoded data removed]",
            "text/plain": [
              "<Figure size 720x432 with 1 Axes>"
            ]
          },
          "metadata": {
            "tags": [],
            "needs_background": "light"
          }
        }
      ]
    },
    {
      "cell_type": "markdown",
      "metadata": {
        "id": "96HNM1G1Gg2h"
      },
      "source": [
        "Model evaluation to ensure satisfactory performance"
      ]
    },
    {
      "cell_type": "code",
      "metadata": {
        "id": "goyHE18uHPdu"
      },
      "source": [
        "def test_lr_running_time(X_train,Y_train,X_test,Y_test):\n",
        "    time_start = time.time()\n",
        "    model = LinearRegression(fit_intercept=True, normalize=True)\n",
        "    model.fit(X_train,Y_train)\n",
        "\n",
        "    pred_train = model.predict(X_train)\n",
        "    pred_test = model.predict(X_test)\n",
        "\n",
        "    time_end = time.time() \n",
        "    time_c= time_end - time_start\n",
        "    assert time_c<1.0, 'model running time should be less than 1 sec'\n",
        "    print(\"Linear regression model running time test success!\")\n",
        "\n",
        "def test_ridge_running_time(X_train,Y_train,X_test,Y_test):\n",
        "    time_start = time.time()\n",
        "    model = Ridge(alpha=0.2,fit_intercept=True,max_iter=500,normalize=False)\n",
        "    model.fit(X_train,Y_train)\n",
        "\n",
        "    pred_train = model.predict(X_train)\n",
        "    pred_test = model.predict(X_test)\n",
        "    time_end = time.time() \n",
        "    time_c= time_end - time_start\n",
        "    assert time_c<1.0, 'model running time should be less than 1 sec'\n",
        "    print(\"Ridge regression model running time test success!\")\n",
        "\n",
        "def test_MLP_running_time(X_train,Y_train,X_test,Y_test):\n",
        "    time_start = time.time()\n",
        "    model = MLPRegressor(hidden_layer_sizes=30,learning_rate_init=0.01,max_iter=5,early_stopping=True,verbose=True)\n",
        "    model.fit(X_train,Y_train)\n",
        "\n",
        "    pred_train = model.predict(X_train)\n",
        "    pred_test = model.predict(X_test)\n",
        "    time_end = time.time() \n",
        "    time_c= time_end - time_start\n",
        "    assert time_c<600.0, 'model running time should be less than 1 sec'\n",
        "    print(\"Multilayer Perceptron model running time test success!\")"
      ],
      "execution_count": 53,
      "outputs": []
    },
    {
      "cell_type": "code",
      "metadata": {
        "id": "MK-T9jObHQ8U",
        "colab": {
          "base_uri": "https://localhost:8080/"
        },
        "outputId": "efb92f7a-c948-4111-8515-8a25c6cc50aa"
      },
      "source": [
        "test_lr_running_time(X_train,Y_train,X_test,Y_test)\n",
        "print(\"----------------------------------------------------------------------------\")\n",
        "test_ridge_running_time(X_train,Y_train,X_test,Y_test)\n",
        "print(\"----------------------------------------------------------------------------\")\n",
        "test_MLP_running_time(X_train,Y_train,X_test,Y_test)"
      ],
      "execution_count": 54,
      "outputs": [
        {
          "output_type": "stream",
          "text": [
            "Linear regression model running time test success!\n",
            "----------------------------------------------------------------------------\n",
            "Ridge regression model running time test success!\n",
            "----------------------------------------------------------------------------\n",
            "Iteration 1, loss = 6.26595676\n",
            "Validation score: 0.938445\n",
            "Iteration 2, loss = 5.53063957\n",
            "Validation score: 0.939395\n",
            "Iteration 3, loss = 5.48325907\n",
            "Validation score: 0.939713\n",
            "Iteration 4, loss = 5.45541211\n",
            "Validation score: 0.937279\n",
            "Iteration 5, loss = 5.45352778\n",
            "Validation score: 0.931018\n"
          ],
          "name": "stdout"
        },
        {
          "output_type": "stream",
          "text": [
            "/usr/local/lib/python3.7/dist-packages/sklearn/neural_network/_multilayer_perceptron.py:571: ConvergenceWarning: Stochastic Optimizer: Maximum iterations (5) reached and the optimization hasn't converged yet.\n",
            "  % self.max_iter, ConvergenceWarning)\n"
          ],
          "name": "stderr"
        },
        {
          "output_type": "stream",
          "text": [
            "Multilayer Perceptron model running time test success!\n"
          ],
          "name": "stdout"
        }
      ]
    }
  ]
}